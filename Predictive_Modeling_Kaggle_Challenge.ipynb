{
  "nbformat": 4,
  "nbformat_minor": 0,
  "metadata": {
    "colab": {
      "name": "Predictive_Modeling_Kaggle_Challenge.ipynb",
      "version": "0.3.2",
      "provenance": [],
      "collapsed_sections": []
    },
    "kernelspec": {
      "display_name": "Python 3",
      "language": "python",
      "name": "python3"
    }
  },
  "cells": [
    {
      "metadata": {
        "id": "4LPCF5eOaOAj",
        "colab_type": "text"
      },
      "cell_type": "markdown",
      "source": [
        "# Predict which waterpumps in Tanzania are faulty"
      ]
    },
    {
      "metadata": {
        "id": "SrVl66n2aOAk",
        "colab_type": "text"
      },
      "cell_type": "markdown",
      "source": [
        "## Get Data and look at it"
      ]
    },
    {
      "metadata": {
        "id": "mU4hW8G5aOAl",
        "colab_type": "code",
        "colab": {}
      },
      "cell_type": "code",
      "source": [
        "import matplotlib.pyplot as plt\n",
        "import seaborn as sns\n",
        "import numpy as np\n",
        "import pandas as pd\n",
        "\n",
        "from sklearn.datasets import make_classification\n",
        "from sklearn.metrics import accuracy_score, classification_report\n",
        "from sklearn.model_selection import cross_val_score, GridSearchCV\n",
        "from sklearn.linear_model import LogisticRegression\n",
        "from sklearn.tree import DecisionTreeClassifier\n",
        "from sklearn.ensemble import RandomForestClassifier\n",
        "from sklearn.model_selection import train_test_split\n",
        "from sklearn.neighbors import KNeighborsClassifier\n",
        "\n",
        "pd.set_option('display.max_columns', None)  # Unlimited columns\n",
        "pd.options.mode.use_inf_as_na = True"
      ],
      "execution_count": 0,
      "outputs": []
    },
    {
      "metadata": {
        "id": "Y8F1kS97wuhB",
        "colab_type": "code",
        "colab": {
          "base_uri": "https://localhost:8080/",
          "height": 241
        },
        "outputId": "07bcfb44-9557-4542-bd1c-02ac7677b98f"
      },
      "cell_type": "code",
      "source": [
        "!pip install -U seaborn"
      ],
      "execution_count": 105,
      "outputs": [
        {
          "output_type": "stream",
          "text": [
            "Requirement already up-to-date: seaborn in /usr/local/lib/python3.6/dist-packages (0.9.0)\n",
            "Requirement already satisfied, skipping upgrade: numpy>=1.9.3 in /usr/local/lib/python3.6/dist-packages (from seaborn) (1.14.6)\n",
            "Requirement already satisfied, skipping upgrade: pandas>=0.15.2 in /usr/local/lib/python3.6/dist-packages (from seaborn) (0.22.0)\n",
            "Requirement already satisfied, skipping upgrade: matplotlib>=1.4.3 in /usr/local/lib/python3.6/dist-packages (from seaborn) (3.0.2)\n",
            "Requirement already satisfied, skipping upgrade: scipy>=0.14.0 in /usr/local/lib/python3.6/dist-packages (from seaborn) (1.1.0)\n",
            "Requirement already satisfied, skipping upgrade: python-dateutil>=2 in /usr/local/lib/python3.6/dist-packages (from pandas>=0.15.2->seaborn) (2.5.3)\n",
            "Requirement already satisfied, skipping upgrade: pytz>=2011k in /usr/local/lib/python3.6/dist-packages (from pandas>=0.15.2->seaborn) (2018.9)\n",
            "Requirement already satisfied, skipping upgrade: cycler>=0.10 in /usr/local/lib/python3.6/dist-packages (from matplotlib>=1.4.3->seaborn) (0.10.0)\n",
            "Requirement already satisfied, skipping upgrade: kiwisolver>=1.0.1 in /usr/local/lib/python3.6/dist-packages (from matplotlib>=1.4.3->seaborn) (1.0.1)\n",
            "Requirement already satisfied, skipping upgrade: pyparsing!=2.0.4,!=2.1.2,!=2.1.6,>=2.0.1 in /usr/local/lib/python3.6/dist-packages (from matplotlib>=1.4.3->seaborn) (2.3.1)\n",
            "Requirement already satisfied, skipping upgrade: six>=1.5 in /usr/local/lib/python3.6/dist-packages (from python-dateutil>=2->pandas>=0.15.2->seaborn) (1.11.0)\n",
            "Requirement already satisfied, skipping upgrade: setuptools in /usr/local/lib/python3.6/dist-packages (from kiwisolver>=1.0.1->matplotlib>=1.4.3->seaborn) (40.7.3)\n"
          ],
          "name": "stdout"
        }
      ]
    },
    {
      "metadata": {
        "id": "xd7F2dbdaOAo",
        "colab_type": "code",
        "colab": {
          "base_uri": "https://localhost:8080/",
          "height": 34
        },
        "outputId": "8a17c31c-7743-4708-dd6e-1263a15a23ca"
      },
      "cell_type": "code",
      "source": [
        "sns.__version__"
      ],
      "execution_count": 106,
      "outputs": [
        {
          "output_type": "execute_result",
          "data": {
            "text/plain": [
              "'0.9.0'"
            ]
          },
          "metadata": {
            "tags": []
          },
          "execution_count": 106
        }
      ]
    },
    {
      "metadata": {
        "id": "VLSHZVcEaOAs",
        "colab_type": "code",
        "colab": {
          "base_uri": "https://localhost:8080/",
          "height": 442
        },
        "outputId": "f0ecf859-8d9a-41b5-e8f3-783fd9008089"
      },
      "cell_type": "code",
      "source": [
        "X_train_original = pd.read_csv('./train_features.csv', header = [0], index_col = 0)\n",
        "X_train_original.head()"
      ],
      "execution_count": 107,
      "outputs": [
        {
          "output_type": "execute_result",
          "data": {
            "text/html": [
              "<div>\n",
              "<style scoped>\n",
              "    .dataframe tbody tr th:only-of-type {\n",
              "        vertical-align: middle;\n",
              "    }\n",
              "\n",
              "    .dataframe tbody tr th {\n",
              "        vertical-align: top;\n",
              "    }\n",
              "\n",
              "    .dataframe thead th {\n",
              "        text-align: right;\n",
              "    }\n",
              "</style>\n",
              "<table border=\"1\" class=\"dataframe\">\n",
              "  <thead>\n",
              "    <tr style=\"text-align: right;\">\n",
              "      <th></th>\n",
              "      <th>amount_tsh</th>\n",
              "      <th>date_recorded</th>\n",
              "      <th>funder</th>\n",
              "      <th>gps_height</th>\n",
              "      <th>installer</th>\n",
              "      <th>longitude</th>\n",
              "      <th>latitude</th>\n",
              "      <th>wpt_name</th>\n",
              "      <th>num_private</th>\n",
              "      <th>basin</th>\n",
              "      <th>subvillage</th>\n",
              "      <th>region</th>\n",
              "      <th>region_code</th>\n",
              "      <th>district_code</th>\n",
              "      <th>lga</th>\n",
              "      <th>ward</th>\n",
              "      <th>population</th>\n",
              "      <th>public_meeting</th>\n",
              "      <th>recorded_by</th>\n",
              "      <th>scheme_management</th>\n",
              "      <th>scheme_name</th>\n",
              "      <th>permit</th>\n",
              "      <th>construction_year</th>\n",
              "      <th>extraction_type</th>\n",
              "      <th>extraction_type_group</th>\n",
              "      <th>extraction_type_class</th>\n",
              "      <th>management</th>\n",
              "      <th>management_group</th>\n",
              "      <th>payment</th>\n",
              "      <th>payment_type</th>\n",
              "      <th>water_quality</th>\n",
              "      <th>quality_group</th>\n",
              "      <th>quantity</th>\n",
              "      <th>quantity_group</th>\n",
              "      <th>source</th>\n",
              "      <th>source_type</th>\n",
              "      <th>source_class</th>\n",
              "      <th>waterpoint_type</th>\n",
              "      <th>waterpoint_type_group</th>\n",
              "    </tr>\n",
              "    <tr>\n",
              "      <th>id</th>\n",
              "      <th></th>\n",
              "      <th></th>\n",
              "      <th></th>\n",
              "      <th></th>\n",
              "      <th></th>\n",
              "      <th></th>\n",
              "      <th></th>\n",
              "      <th></th>\n",
              "      <th></th>\n",
              "      <th></th>\n",
              "      <th></th>\n",
              "      <th></th>\n",
              "      <th></th>\n",
              "      <th></th>\n",
              "      <th></th>\n",
              "      <th></th>\n",
              "      <th></th>\n",
              "      <th></th>\n",
              "      <th></th>\n",
              "      <th></th>\n",
              "      <th></th>\n",
              "      <th></th>\n",
              "      <th></th>\n",
              "      <th></th>\n",
              "      <th></th>\n",
              "      <th></th>\n",
              "      <th></th>\n",
              "      <th></th>\n",
              "      <th></th>\n",
              "      <th></th>\n",
              "      <th></th>\n",
              "      <th></th>\n",
              "      <th></th>\n",
              "      <th></th>\n",
              "      <th></th>\n",
              "      <th></th>\n",
              "      <th></th>\n",
              "      <th></th>\n",
              "      <th></th>\n",
              "    </tr>\n",
              "  </thead>\n",
              "  <tbody>\n",
              "    <tr>\n",
              "      <th>69572</th>\n",
              "      <td>6000.0</td>\n",
              "      <td>2011-03-14</td>\n",
              "      <td>Roman</td>\n",
              "      <td>1390</td>\n",
              "      <td>Roman</td>\n",
              "      <td>34.938093</td>\n",
              "      <td>-9.856322</td>\n",
              "      <td>none</td>\n",
              "      <td>0</td>\n",
              "      <td>Lake Nyasa</td>\n",
              "      <td>Mnyusi B</td>\n",
              "      <td>Iringa</td>\n",
              "      <td>11</td>\n",
              "      <td>5</td>\n",
              "      <td>Ludewa</td>\n",
              "      <td>Mundindi</td>\n",
              "      <td>109</td>\n",
              "      <td>True</td>\n",
              "      <td>GeoData Consultants Ltd</td>\n",
              "      <td>VWC</td>\n",
              "      <td>Roman</td>\n",
              "      <td>False</td>\n",
              "      <td>1999</td>\n",
              "      <td>gravity</td>\n",
              "      <td>gravity</td>\n",
              "      <td>gravity</td>\n",
              "      <td>vwc</td>\n",
              "      <td>user-group</td>\n",
              "      <td>pay annually</td>\n",
              "      <td>annually</td>\n",
              "      <td>soft</td>\n",
              "      <td>good</td>\n",
              "      <td>enough</td>\n",
              "      <td>enough</td>\n",
              "      <td>spring</td>\n",
              "      <td>spring</td>\n",
              "      <td>groundwater</td>\n",
              "      <td>communal standpipe</td>\n",
              "      <td>communal standpipe</td>\n",
              "    </tr>\n",
              "    <tr>\n",
              "      <th>8776</th>\n",
              "      <td>0.0</td>\n",
              "      <td>2013-03-06</td>\n",
              "      <td>Grumeti</td>\n",
              "      <td>1399</td>\n",
              "      <td>GRUMETI</td>\n",
              "      <td>34.698766</td>\n",
              "      <td>-2.147466</td>\n",
              "      <td>Zahanati</td>\n",
              "      <td>0</td>\n",
              "      <td>Lake Victoria</td>\n",
              "      <td>Nyamara</td>\n",
              "      <td>Mara</td>\n",
              "      <td>20</td>\n",
              "      <td>2</td>\n",
              "      <td>Serengeti</td>\n",
              "      <td>Natta</td>\n",
              "      <td>280</td>\n",
              "      <td>NaN</td>\n",
              "      <td>GeoData Consultants Ltd</td>\n",
              "      <td>Other</td>\n",
              "      <td>NaN</td>\n",
              "      <td>True</td>\n",
              "      <td>2010</td>\n",
              "      <td>gravity</td>\n",
              "      <td>gravity</td>\n",
              "      <td>gravity</td>\n",
              "      <td>wug</td>\n",
              "      <td>user-group</td>\n",
              "      <td>never pay</td>\n",
              "      <td>never pay</td>\n",
              "      <td>soft</td>\n",
              "      <td>good</td>\n",
              "      <td>insufficient</td>\n",
              "      <td>insufficient</td>\n",
              "      <td>rainwater harvesting</td>\n",
              "      <td>rainwater harvesting</td>\n",
              "      <td>surface</td>\n",
              "      <td>communal standpipe</td>\n",
              "      <td>communal standpipe</td>\n",
              "    </tr>\n",
              "    <tr>\n",
              "      <th>34310</th>\n",
              "      <td>25.0</td>\n",
              "      <td>2013-02-25</td>\n",
              "      <td>Lottery Club</td>\n",
              "      <td>686</td>\n",
              "      <td>World vision</td>\n",
              "      <td>37.460664</td>\n",
              "      <td>-3.821329</td>\n",
              "      <td>Kwa Mahundi</td>\n",
              "      <td>0</td>\n",
              "      <td>Pangani</td>\n",
              "      <td>Majengo</td>\n",
              "      <td>Manyara</td>\n",
              "      <td>21</td>\n",
              "      <td>4</td>\n",
              "      <td>Simanjiro</td>\n",
              "      <td>Ngorika</td>\n",
              "      <td>250</td>\n",
              "      <td>True</td>\n",
              "      <td>GeoData Consultants Ltd</td>\n",
              "      <td>VWC</td>\n",
              "      <td>Nyumba ya mungu pipe scheme</td>\n",
              "      <td>True</td>\n",
              "      <td>2009</td>\n",
              "      <td>gravity</td>\n",
              "      <td>gravity</td>\n",
              "      <td>gravity</td>\n",
              "      <td>vwc</td>\n",
              "      <td>user-group</td>\n",
              "      <td>pay per bucket</td>\n",
              "      <td>per bucket</td>\n",
              "      <td>soft</td>\n",
              "      <td>good</td>\n",
              "      <td>enough</td>\n",
              "      <td>enough</td>\n",
              "      <td>dam</td>\n",
              "      <td>dam</td>\n",
              "      <td>surface</td>\n",
              "      <td>communal standpipe multiple</td>\n",
              "      <td>communal standpipe</td>\n",
              "    </tr>\n",
              "    <tr>\n",
              "      <th>67743</th>\n",
              "      <td>0.0</td>\n",
              "      <td>2013-01-28</td>\n",
              "      <td>Unicef</td>\n",
              "      <td>263</td>\n",
              "      <td>UNICEF</td>\n",
              "      <td>38.486161</td>\n",
              "      <td>-11.155298</td>\n",
              "      <td>Zahanati Ya Nanyumbu</td>\n",
              "      <td>0</td>\n",
              "      <td>Ruvuma / Southern Coast</td>\n",
              "      <td>Mahakamani</td>\n",
              "      <td>Mtwara</td>\n",
              "      <td>90</td>\n",
              "      <td>63</td>\n",
              "      <td>Nanyumbu</td>\n",
              "      <td>Nanyumbu</td>\n",
              "      <td>58</td>\n",
              "      <td>True</td>\n",
              "      <td>GeoData Consultants Ltd</td>\n",
              "      <td>VWC</td>\n",
              "      <td>NaN</td>\n",
              "      <td>True</td>\n",
              "      <td>1986</td>\n",
              "      <td>submersible</td>\n",
              "      <td>submersible</td>\n",
              "      <td>submersible</td>\n",
              "      <td>vwc</td>\n",
              "      <td>user-group</td>\n",
              "      <td>never pay</td>\n",
              "      <td>never pay</td>\n",
              "      <td>soft</td>\n",
              "      <td>good</td>\n",
              "      <td>dry</td>\n",
              "      <td>dry</td>\n",
              "      <td>machine dbh</td>\n",
              "      <td>borehole</td>\n",
              "      <td>groundwater</td>\n",
              "      <td>communal standpipe multiple</td>\n",
              "      <td>communal standpipe</td>\n",
              "    </tr>\n",
              "    <tr>\n",
              "      <th>19728</th>\n",
              "      <td>0.0</td>\n",
              "      <td>2011-07-13</td>\n",
              "      <td>Action In A</td>\n",
              "      <td>0</td>\n",
              "      <td>Artisan</td>\n",
              "      <td>31.130847</td>\n",
              "      <td>-1.825359</td>\n",
              "      <td>Shuleni</td>\n",
              "      <td>0</td>\n",
              "      <td>Lake Victoria</td>\n",
              "      <td>Kyanyamisa</td>\n",
              "      <td>Kagera</td>\n",
              "      <td>18</td>\n",
              "      <td>1</td>\n",
              "      <td>Karagwe</td>\n",
              "      <td>Nyakasimbi</td>\n",
              "      <td>0</td>\n",
              "      <td>True</td>\n",
              "      <td>GeoData Consultants Ltd</td>\n",
              "      <td>NaN</td>\n",
              "      <td>NaN</td>\n",
              "      <td>True</td>\n",
              "      <td>0</td>\n",
              "      <td>gravity</td>\n",
              "      <td>gravity</td>\n",
              "      <td>gravity</td>\n",
              "      <td>other</td>\n",
              "      <td>other</td>\n",
              "      <td>never pay</td>\n",
              "      <td>never pay</td>\n",
              "      <td>soft</td>\n",
              "      <td>good</td>\n",
              "      <td>seasonal</td>\n",
              "      <td>seasonal</td>\n",
              "      <td>rainwater harvesting</td>\n",
              "      <td>rainwater harvesting</td>\n",
              "      <td>surface</td>\n",
              "      <td>communal standpipe</td>\n",
              "      <td>communal standpipe</td>\n",
              "    </tr>\n",
              "  </tbody>\n",
              "</table>\n",
              "</div>"
            ],
            "text/plain": [
              "       amount_tsh date_recorded        funder  gps_height     installer  \\\n",
              "id                                                                        \n",
              "69572      6000.0    2011-03-14         Roman        1390         Roman   \n",
              "8776          0.0    2013-03-06       Grumeti        1399       GRUMETI   \n",
              "34310        25.0    2013-02-25  Lottery Club         686  World vision   \n",
              "67743         0.0    2013-01-28        Unicef         263        UNICEF   \n",
              "19728         0.0    2011-07-13   Action In A           0       Artisan   \n",
              "\n",
              "       longitude   latitude              wpt_name  num_private  \\\n",
              "id                                                               \n",
              "69572  34.938093  -9.856322                  none            0   \n",
              "8776   34.698766  -2.147466              Zahanati            0   \n",
              "34310  37.460664  -3.821329           Kwa Mahundi            0   \n",
              "67743  38.486161 -11.155298  Zahanati Ya Nanyumbu            0   \n",
              "19728  31.130847  -1.825359               Shuleni            0   \n",
              "\n",
              "                         basin  subvillage   region  region_code  \\\n",
              "id                                                                 \n",
              "69572               Lake Nyasa    Mnyusi B   Iringa           11   \n",
              "8776             Lake Victoria     Nyamara     Mara           20   \n",
              "34310                  Pangani     Majengo  Manyara           21   \n",
              "67743  Ruvuma / Southern Coast  Mahakamani   Mtwara           90   \n",
              "19728            Lake Victoria  Kyanyamisa   Kagera           18   \n",
              "\n",
              "       district_code        lga        ward  population public_meeting  \\\n",
              "id                                                                       \n",
              "69572              5     Ludewa    Mundindi         109           True   \n",
              "8776               2  Serengeti       Natta         280            NaN   \n",
              "34310              4  Simanjiro     Ngorika         250           True   \n",
              "67743             63   Nanyumbu    Nanyumbu          58           True   \n",
              "19728              1    Karagwe  Nyakasimbi           0           True   \n",
              "\n",
              "                   recorded_by scheme_management                  scheme_name  \\\n",
              "id                                                                              \n",
              "69572  GeoData Consultants Ltd               VWC                        Roman   \n",
              "8776   GeoData Consultants Ltd             Other                          NaN   \n",
              "34310  GeoData Consultants Ltd               VWC  Nyumba ya mungu pipe scheme   \n",
              "67743  GeoData Consultants Ltd               VWC                          NaN   \n",
              "19728  GeoData Consultants Ltd               NaN                          NaN   \n",
              "\n",
              "      permit  construction_year extraction_type extraction_type_group  \\\n",
              "id                                                                      \n",
              "69572  False               1999         gravity               gravity   \n",
              "8776    True               2010         gravity               gravity   \n",
              "34310   True               2009         gravity               gravity   \n",
              "67743   True               1986     submersible           submersible   \n",
              "19728   True                  0         gravity               gravity   \n",
              "\n",
              "      extraction_type_class management management_group         payment  \\\n",
              "id                                                                        \n",
              "69572               gravity        vwc       user-group    pay annually   \n",
              "8776                gravity        wug       user-group       never pay   \n",
              "34310               gravity        vwc       user-group  pay per bucket   \n",
              "67743           submersible        vwc       user-group       never pay   \n",
              "19728               gravity      other            other       never pay   \n",
              "\n",
              "      payment_type water_quality quality_group      quantity quantity_group  \\\n",
              "id                                                                            \n",
              "69572     annually          soft          good        enough         enough   \n",
              "8776     never pay          soft          good  insufficient   insufficient   \n",
              "34310   per bucket          soft          good        enough         enough   \n",
              "67743    never pay          soft          good           dry            dry   \n",
              "19728    never pay          soft          good      seasonal       seasonal   \n",
              "\n",
              "                     source           source_type source_class  \\\n",
              "id                                                               \n",
              "69572                spring                spring  groundwater   \n",
              "8776   rainwater harvesting  rainwater harvesting      surface   \n",
              "34310                   dam                   dam      surface   \n",
              "67743           machine dbh              borehole  groundwater   \n",
              "19728  rainwater harvesting  rainwater harvesting      surface   \n",
              "\n",
              "                   waterpoint_type waterpoint_type_group  \n",
              "id                                                        \n",
              "69572           communal standpipe    communal standpipe  \n",
              "8776            communal standpipe    communal standpipe  \n",
              "34310  communal standpipe multiple    communal standpipe  \n",
              "67743  communal standpipe multiple    communal standpipe  \n",
              "19728           communal standpipe    communal standpipe  "
            ]
          },
          "metadata": {
            "tags": []
          },
          "execution_count": 107
        }
      ]
    },
    {
      "metadata": {
        "id": "XT4_ua1laOAv",
        "colab_type": "code",
        "colab": {
          "base_uri": "https://localhost:8080/",
          "height": 235
        },
        "outputId": "6fcaf712-0df4-42a4-ce12-0017214514b3"
      },
      "cell_type": "code",
      "source": [
        "y_train_original = pd.read_csv('./train_labels.csv', header = [0], index_col = 0)\n",
        "y_train_original.head()"
      ],
      "execution_count": 108,
      "outputs": [
        {
          "output_type": "execute_result",
          "data": {
            "text/html": [
              "<div>\n",
              "<style scoped>\n",
              "    .dataframe tbody tr th:only-of-type {\n",
              "        vertical-align: middle;\n",
              "    }\n",
              "\n",
              "    .dataframe tbody tr th {\n",
              "        vertical-align: top;\n",
              "    }\n",
              "\n",
              "    .dataframe thead th {\n",
              "        text-align: right;\n",
              "    }\n",
              "</style>\n",
              "<table border=\"1\" class=\"dataframe\">\n",
              "  <thead>\n",
              "    <tr style=\"text-align: right;\">\n",
              "      <th></th>\n",
              "      <th>status_group</th>\n",
              "    </tr>\n",
              "    <tr>\n",
              "      <th>id</th>\n",
              "      <th></th>\n",
              "    </tr>\n",
              "  </thead>\n",
              "  <tbody>\n",
              "    <tr>\n",
              "      <th>69572</th>\n",
              "      <td>functional</td>\n",
              "    </tr>\n",
              "    <tr>\n",
              "      <th>8776</th>\n",
              "      <td>functional</td>\n",
              "    </tr>\n",
              "    <tr>\n",
              "      <th>34310</th>\n",
              "      <td>functional</td>\n",
              "    </tr>\n",
              "    <tr>\n",
              "      <th>67743</th>\n",
              "      <td>non functional</td>\n",
              "    </tr>\n",
              "    <tr>\n",
              "      <th>19728</th>\n",
              "      <td>functional</td>\n",
              "    </tr>\n",
              "  </tbody>\n",
              "</table>\n",
              "</div>"
            ],
            "text/plain": [
              "         status_group\n",
              "id                   \n",
              "69572      functional\n",
              "8776       functional\n",
              "34310      functional\n",
              "67743  non functional\n",
              "19728      functional"
            ]
          },
          "metadata": {
            "tags": []
          },
          "execution_count": 108
        }
      ]
    },
    {
      "metadata": {
        "id": "rezG_muQaOAy",
        "colab_type": "code",
        "colab": {
          "base_uri": "https://localhost:8080/",
          "height": 85
        },
        "outputId": "d38b2bde-b234-459c-9e96-8de9e8e322a1"
      },
      "cell_type": "code",
      "source": [
        "pd.value_counts(y_train_original.status_group, normalize = True)"
      ],
      "execution_count": 109,
      "outputs": [
        {
          "output_type": "execute_result",
          "data": {
            "text/plain": [
              "functional                 0.543081\n",
              "non functional             0.384242\n",
              "functional needs repair    0.072677\n",
              "Name: status_group, dtype: float64"
            ]
          },
          "metadata": {
            "tags": []
          },
          "execution_count": 109
        }
      ]
    },
    {
      "metadata": {
        "id": "HRTPfuU0aOA3",
        "colab_type": "text"
      },
      "cell_type": "markdown",
      "source": [
        "# Majority class prediction\n",
        "### As a first step, let's see if we get around 50% accuracy on the test set, with a majority class prediction."
      ]
    },
    {
      "metadata": {
        "id": "qKqChAbbaOA3",
        "colab_type": "code",
        "colab": {
          "base_uri": "https://localhost:8080/",
          "height": 459
        },
        "outputId": "9fb14350-3c72-444a-fb7f-5e629060f522"
      },
      "cell_type": "code",
      "source": [
        "X_test_original = pd.read_csv('./test_features.csv', header = [0], index_col = 0)\n",
        "X_test_original.head()"
      ],
      "execution_count": 110,
      "outputs": [
        {
          "output_type": "execute_result",
          "data": {
            "text/html": [
              "<div>\n",
              "<style scoped>\n",
              "    .dataframe tbody tr th:only-of-type {\n",
              "        vertical-align: middle;\n",
              "    }\n",
              "\n",
              "    .dataframe tbody tr th {\n",
              "        vertical-align: top;\n",
              "    }\n",
              "\n",
              "    .dataframe thead th {\n",
              "        text-align: right;\n",
              "    }\n",
              "</style>\n",
              "<table border=\"1\" class=\"dataframe\">\n",
              "  <thead>\n",
              "    <tr style=\"text-align: right;\">\n",
              "      <th></th>\n",
              "      <th>amount_tsh</th>\n",
              "      <th>date_recorded</th>\n",
              "      <th>funder</th>\n",
              "      <th>gps_height</th>\n",
              "      <th>installer</th>\n",
              "      <th>longitude</th>\n",
              "      <th>latitude</th>\n",
              "      <th>wpt_name</th>\n",
              "      <th>num_private</th>\n",
              "      <th>basin</th>\n",
              "      <th>subvillage</th>\n",
              "      <th>region</th>\n",
              "      <th>region_code</th>\n",
              "      <th>district_code</th>\n",
              "      <th>lga</th>\n",
              "      <th>ward</th>\n",
              "      <th>population</th>\n",
              "      <th>public_meeting</th>\n",
              "      <th>recorded_by</th>\n",
              "      <th>scheme_management</th>\n",
              "      <th>scheme_name</th>\n",
              "      <th>permit</th>\n",
              "      <th>construction_year</th>\n",
              "      <th>extraction_type</th>\n",
              "      <th>extraction_type_group</th>\n",
              "      <th>extraction_type_class</th>\n",
              "      <th>management</th>\n",
              "      <th>management_group</th>\n",
              "      <th>payment</th>\n",
              "      <th>payment_type</th>\n",
              "      <th>water_quality</th>\n",
              "      <th>quality_group</th>\n",
              "      <th>quantity</th>\n",
              "      <th>quantity_group</th>\n",
              "      <th>source</th>\n",
              "      <th>source_type</th>\n",
              "      <th>source_class</th>\n",
              "      <th>waterpoint_type</th>\n",
              "      <th>waterpoint_type_group</th>\n",
              "    </tr>\n",
              "    <tr>\n",
              "      <th>id</th>\n",
              "      <th></th>\n",
              "      <th></th>\n",
              "      <th></th>\n",
              "      <th></th>\n",
              "      <th></th>\n",
              "      <th></th>\n",
              "      <th></th>\n",
              "      <th></th>\n",
              "      <th></th>\n",
              "      <th></th>\n",
              "      <th></th>\n",
              "      <th></th>\n",
              "      <th></th>\n",
              "      <th></th>\n",
              "      <th></th>\n",
              "      <th></th>\n",
              "      <th></th>\n",
              "      <th></th>\n",
              "      <th></th>\n",
              "      <th></th>\n",
              "      <th></th>\n",
              "      <th></th>\n",
              "      <th></th>\n",
              "      <th></th>\n",
              "      <th></th>\n",
              "      <th></th>\n",
              "      <th></th>\n",
              "      <th></th>\n",
              "      <th></th>\n",
              "      <th></th>\n",
              "      <th></th>\n",
              "      <th></th>\n",
              "      <th></th>\n",
              "      <th></th>\n",
              "      <th></th>\n",
              "      <th></th>\n",
              "      <th></th>\n",
              "      <th></th>\n",
              "      <th></th>\n",
              "    </tr>\n",
              "  </thead>\n",
              "  <tbody>\n",
              "    <tr>\n",
              "      <th>50785</th>\n",
              "      <td>0.0</td>\n",
              "      <td>2013-02-04</td>\n",
              "      <td>Dmdd</td>\n",
              "      <td>1996</td>\n",
              "      <td>DMDD</td>\n",
              "      <td>35.290799</td>\n",
              "      <td>-4.059696</td>\n",
              "      <td>Dinamu Secondary School</td>\n",
              "      <td>0</td>\n",
              "      <td>Internal</td>\n",
              "      <td>Magoma</td>\n",
              "      <td>Manyara</td>\n",
              "      <td>21</td>\n",
              "      <td>3</td>\n",
              "      <td>Mbulu</td>\n",
              "      <td>Bashay</td>\n",
              "      <td>321</td>\n",
              "      <td>True</td>\n",
              "      <td>GeoData Consultants Ltd</td>\n",
              "      <td>Parastatal</td>\n",
              "      <td>NaN</td>\n",
              "      <td>True</td>\n",
              "      <td>2012</td>\n",
              "      <td>other</td>\n",
              "      <td>other</td>\n",
              "      <td>other</td>\n",
              "      <td>parastatal</td>\n",
              "      <td>parastatal</td>\n",
              "      <td>never pay</td>\n",
              "      <td>never pay</td>\n",
              "      <td>soft</td>\n",
              "      <td>good</td>\n",
              "      <td>seasonal</td>\n",
              "      <td>seasonal</td>\n",
              "      <td>rainwater harvesting</td>\n",
              "      <td>rainwater harvesting</td>\n",
              "      <td>surface</td>\n",
              "      <td>other</td>\n",
              "      <td>other</td>\n",
              "    </tr>\n",
              "    <tr>\n",
              "      <th>51630</th>\n",
              "      <td>0.0</td>\n",
              "      <td>2013-02-04</td>\n",
              "      <td>Government Of Tanzania</td>\n",
              "      <td>1569</td>\n",
              "      <td>DWE</td>\n",
              "      <td>36.656709</td>\n",
              "      <td>-3.309214</td>\n",
              "      <td>Kimnyak</td>\n",
              "      <td>0</td>\n",
              "      <td>Pangani</td>\n",
              "      <td>Kimnyak</td>\n",
              "      <td>Arusha</td>\n",
              "      <td>2</td>\n",
              "      <td>2</td>\n",
              "      <td>Arusha Rural</td>\n",
              "      <td>Kimnyaki</td>\n",
              "      <td>300</td>\n",
              "      <td>True</td>\n",
              "      <td>GeoData Consultants Ltd</td>\n",
              "      <td>VWC</td>\n",
              "      <td>TPRI pipe line</td>\n",
              "      <td>True</td>\n",
              "      <td>2000</td>\n",
              "      <td>gravity</td>\n",
              "      <td>gravity</td>\n",
              "      <td>gravity</td>\n",
              "      <td>vwc</td>\n",
              "      <td>user-group</td>\n",
              "      <td>never pay</td>\n",
              "      <td>never pay</td>\n",
              "      <td>soft</td>\n",
              "      <td>good</td>\n",
              "      <td>insufficient</td>\n",
              "      <td>insufficient</td>\n",
              "      <td>spring</td>\n",
              "      <td>spring</td>\n",
              "      <td>groundwater</td>\n",
              "      <td>communal standpipe</td>\n",
              "      <td>communal standpipe</td>\n",
              "    </tr>\n",
              "    <tr>\n",
              "      <th>17168</th>\n",
              "      <td>0.0</td>\n",
              "      <td>2013-02-01</td>\n",
              "      <td>NaN</td>\n",
              "      <td>1567</td>\n",
              "      <td>NaN</td>\n",
              "      <td>34.767863</td>\n",
              "      <td>-5.004344</td>\n",
              "      <td>Puma Secondary</td>\n",
              "      <td>0</td>\n",
              "      <td>Internal</td>\n",
              "      <td>Msatu</td>\n",
              "      <td>Singida</td>\n",
              "      <td>13</td>\n",
              "      <td>2</td>\n",
              "      <td>Singida Rural</td>\n",
              "      <td>Puma</td>\n",
              "      <td>500</td>\n",
              "      <td>True</td>\n",
              "      <td>GeoData Consultants Ltd</td>\n",
              "      <td>VWC</td>\n",
              "      <td>P</td>\n",
              "      <td>NaN</td>\n",
              "      <td>2010</td>\n",
              "      <td>other</td>\n",
              "      <td>other</td>\n",
              "      <td>other</td>\n",
              "      <td>vwc</td>\n",
              "      <td>user-group</td>\n",
              "      <td>never pay</td>\n",
              "      <td>never pay</td>\n",
              "      <td>soft</td>\n",
              "      <td>good</td>\n",
              "      <td>insufficient</td>\n",
              "      <td>insufficient</td>\n",
              "      <td>rainwater harvesting</td>\n",
              "      <td>rainwater harvesting</td>\n",
              "      <td>surface</td>\n",
              "      <td>other</td>\n",
              "      <td>other</td>\n",
              "    </tr>\n",
              "    <tr>\n",
              "      <th>45559</th>\n",
              "      <td>0.0</td>\n",
              "      <td>2013-01-22</td>\n",
              "      <td>Finn Water</td>\n",
              "      <td>267</td>\n",
              "      <td>FINN WATER</td>\n",
              "      <td>38.058046</td>\n",
              "      <td>-9.418672</td>\n",
              "      <td>Kwa Mzee Pange</td>\n",
              "      <td>0</td>\n",
              "      <td>Ruvuma / Southern Coast</td>\n",
              "      <td>Kipindimbi</td>\n",
              "      <td>Lindi</td>\n",
              "      <td>80</td>\n",
              "      <td>43</td>\n",
              "      <td>Liwale</td>\n",
              "      <td>Mkutano</td>\n",
              "      <td>250</td>\n",
              "      <td>NaN</td>\n",
              "      <td>GeoData Consultants Ltd</td>\n",
              "      <td>VWC</td>\n",
              "      <td>NaN</td>\n",
              "      <td>True</td>\n",
              "      <td>1987</td>\n",
              "      <td>other</td>\n",
              "      <td>other</td>\n",
              "      <td>other</td>\n",
              "      <td>vwc</td>\n",
              "      <td>user-group</td>\n",
              "      <td>unknown</td>\n",
              "      <td>unknown</td>\n",
              "      <td>soft</td>\n",
              "      <td>good</td>\n",
              "      <td>dry</td>\n",
              "      <td>dry</td>\n",
              "      <td>shallow well</td>\n",
              "      <td>shallow well</td>\n",
              "      <td>groundwater</td>\n",
              "      <td>other</td>\n",
              "      <td>other</td>\n",
              "    </tr>\n",
              "    <tr>\n",
              "      <th>49871</th>\n",
              "      <td>500.0</td>\n",
              "      <td>2013-03-27</td>\n",
              "      <td>Bruder</td>\n",
              "      <td>1260</td>\n",
              "      <td>BRUDER</td>\n",
              "      <td>35.006123</td>\n",
              "      <td>-10.950412</td>\n",
              "      <td>Kwa Mzee Turuka</td>\n",
              "      <td>0</td>\n",
              "      <td>Ruvuma / Southern Coast</td>\n",
              "      <td>Losonga</td>\n",
              "      <td>Ruvuma</td>\n",
              "      <td>10</td>\n",
              "      <td>3</td>\n",
              "      <td>Mbinga</td>\n",
              "      <td>Mbinga Urban</td>\n",
              "      <td>60</td>\n",
              "      <td>NaN</td>\n",
              "      <td>GeoData Consultants Ltd</td>\n",
              "      <td>Water Board</td>\n",
              "      <td>BRUDER</td>\n",
              "      <td>True</td>\n",
              "      <td>2000</td>\n",
              "      <td>gravity</td>\n",
              "      <td>gravity</td>\n",
              "      <td>gravity</td>\n",
              "      <td>water board</td>\n",
              "      <td>user-group</td>\n",
              "      <td>pay monthly</td>\n",
              "      <td>monthly</td>\n",
              "      <td>soft</td>\n",
              "      <td>good</td>\n",
              "      <td>enough</td>\n",
              "      <td>enough</td>\n",
              "      <td>spring</td>\n",
              "      <td>spring</td>\n",
              "      <td>groundwater</td>\n",
              "      <td>communal standpipe</td>\n",
              "      <td>communal standpipe</td>\n",
              "    </tr>\n",
              "  </tbody>\n",
              "</table>\n",
              "</div>"
            ],
            "text/plain": [
              "       amount_tsh date_recorded                  funder  gps_height  \\\n",
              "id                                                                    \n",
              "50785         0.0    2013-02-04                    Dmdd        1996   \n",
              "51630         0.0    2013-02-04  Government Of Tanzania        1569   \n",
              "17168         0.0    2013-02-01                     NaN        1567   \n",
              "45559         0.0    2013-01-22              Finn Water         267   \n",
              "49871       500.0    2013-03-27                  Bruder        1260   \n",
              "\n",
              "        installer  longitude   latitude                 wpt_name  num_private  \\\n",
              "id                                                                              \n",
              "50785        DMDD  35.290799  -4.059696  Dinamu Secondary School            0   \n",
              "51630         DWE  36.656709  -3.309214                  Kimnyak            0   \n",
              "17168         NaN  34.767863  -5.004344           Puma Secondary            0   \n",
              "45559  FINN WATER  38.058046  -9.418672           Kwa Mzee Pange            0   \n",
              "49871      BRUDER  35.006123 -10.950412          Kwa Mzee Turuka            0   \n",
              "\n",
              "                         basin  subvillage   region  region_code  \\\n",
              "id                                                                 \n",
              "50785                 Internal      Magoma  Manyara           21   \n",
              "51630                  Pangani     Kimnyak   Arusha            2   \n",
              "17168                 Internal       Msatu  Singida           13   \n",
              "45559  Ruvuma / Southern Coast  Kipindimbi    Lindi           80   \n",
              "49871  Ruvuma / Southern Coast     Losonga   Ruvuma           10   \n",
              "\n",
              "       district_code            lga          ward  population public_meeting  \\\n",
              "id                                                                             \n",
              "50785              3          Mbulu        Bashay         321           True   \n",
              "51630              2   Arusha Rural      Kimnyaki         300           True   \n",
              "17168              2  Singida Rural          Puma         500           True   \n",
              "45559             43         Liwale       Mkutano         250            NaN   \n",
              "49871              3         Mbinga  Mbinga Urban          60            NaN   \n",
              "\n",
              "                   recorded_by scheme_management     scheme_name permit  \\\n",
              "id                                                                        \n",
              "50785  GeoData Consultants Ltd        Parastatal             NaN   True   \n",
              "51630  GeoData Consultants Ltd               VWC  TPRI pipe line   True   \n",
              "17168  GeoData Consultants Ltd               VWC               P    NaN   \n",
              "45559  GeoData Consultants Ltd               VWC             NaN   True   \n",
              "49871  GeoData Consultants Ltd       Water Board          BRUDER   True   \n",
              "\n",
              "       construction_year extraction_type extraction_type_group  \\\n",
              "id                                                               \n",
              "50785               2012           other                 other   \n",
              "51630               2000         gravity               gravity   \n",
              "17168               2010           other                 other   \n",
              "45559               1987           other                 other   \n",
              "49871               2000         gravity               gravity   \n",
              "\n",
              "      extraction_type_class   management management_group      payment  \\\n",
              "id                                                                       \n",
              "50785                 other   parastatal       parastatal    never pay   \n",
              "51630               gravity          vwc       user-group    never pay   \n",
              "17168                 other          vwc       user-group    never pay   \n",
              "45559                 other          vwc       user-group      unknown   \n",
              "49871               gravity  water board       user-group  pay monthly   \n",
              "\n",
              "      payment_type water_quality quality_group      quantity quantity_group  \\\n",
              "id                                                                            \n",
              "50785    never pay          soft          good      seasonal       seasonal   \n",
              "51630    never pay          soft          good  insufficient   insufficient   \n",
              "17168    never pay          soft          good  insufficient   insufficient   \n",
              "45559      unknown          soft          good           dry            dry   \n",
              "49871      monthly          soft          good        enough         enough   \n",
              "\n",
              "                     source           source_type source_class  \\\n",
              "id                                                               \n",
              "50785  rainwater harvesting  rainwater harvesting      surface   \n",
              "51630                spring                spring  groundwater   \n",
              "17168  rainwater harvesting  rainwater harvesting      surface   \n",
              "45559          shallow well          shallow well  groundwater   \n",
              "49871                spring                spring  groundwater   \n",
              "\n",
              "          waterpoint_type waterpoint_type_group  \n",
              "id                                               \n",
              "50785               other                 other  \n",
              "51630  communal standpipe    communal standpipe  \n",
              "17168               other                 other  \n",
              "45559               other                 other  \n",
              "49871  communal standpipe    communal standpipe  "
            ]
          },
          "metadata": {
            "tags": []
          },
          "execution_count": 110
        }
      ]
    },
    {
      "metadata": {
        "id": "5V5qKY3MaOA6",
        "colab_type": "code",
        "colab": {
          "base_uri": "https://localhost:8080/",
          "height": 34
        },
        "outputId": "c7ebaac2-422f-4fb9-d279-3e59f648efba"
      },
      "cell_type": "code",
      "source": [
        "X_test_original.shape"
      ],
      "execution_count": 111,
      "outputs": [
        {
          "output_type": "execute_result",
          "data": {
            "text/plain": [
              "(14358, 39)"
            ]
          },
          "metadata": {
            "tags": []
          },
          "execution_count": 111
        }
      ]
    },
    {
      "metadata": {
        "id": "NevdQeJmaOA-",
        "colab_type": "code",
        "colab": {
          "base_uri": "https://localhost:8080/",
          "height": 204
        },
        "outputId": "b6e02b7a-0cb5-4e65-f961-6e378ba5d793"
      },
      "cell_type": "code",
      "source": [
        "y_pred = ['functional'] * len(X_test_original)\n",
        "y_pred = pd.DataFrame(data = y_pred, \n",
        "                      index = X_test_original.index.values,\n",
        "                      columns = ['status_group'])\n",
        "y_pred.head()"
      ],
      "execution_count": 112,
      "outputs": [
        {
          "output_type": "execute_result",
          "data": {
            "text/html": [
              "<div>\n",
              "<style scoped>\n",
              "    .dataframe tbody tr th:only-of-type {\n",
              "        vertical-align: middle;\n",
              "    }\n",
              "\n",
              "    .dataframe tbody tr th {\n",
              "        vertical-align: top;\n",
              "    }\n",
              "\n",
              "    .dataframe thead th {\n",
              "        text-align: right;\n",
              "    }\n",
              "</style>\n",
              "<table border=\"1\" class=\"dataframe\">\n",
              "  <thead>\n",
              "    <tr style=\"text-align: right;\">\n",
              "      <th></th>\n",
              "      <th>status_group</th>\n",
              "    </tr>\n",
              "  </thead>\n",
              "  <tbody>\n",
              "    <tr>\n",
              "      <th>50785</th>\n",
              "      <td>functional</td>\n",
              "    </tr>\n",
              "    <tr>\n",
              "      <th>51630</th>\n",
              "      <td>functional</td>\n",
              "    </tr>\n",
              "    <tr>\n",
              "      <th>17168</th>\n",
              "      <td>functional</td>\n",
              "    </tr>\n",
              "    <tr>\n",
              "      <th>45559</th>\n",
              "      <td>functional</td>\n",
              "    </tr>\n",
              "    <tr>\n",
              "      <th>49871</th>\n",
              "      <td>functional</td>\n",
              "    </tr>\n",
              "  </tbody>\n",
              "</table>\n",
              "</div>"
            ],
            "text/plain": [
              "      status_group\n",
              "50785   functional\n",
              "51630   functional\n",
              "17168   functional\n",
              "45559   functional\n",
              "49871   functional"
            ]
          },
          "metadata": {
            "tags": []
          },
          "execution_count": 112
        }
      ]
    },
    {
      "metadata": {
        "id": "0SXf-5cUaOBB",
        "colab_type": "code",
        "colab": {}
      },
      "cell_type": "code",
      "source": [
        "y_pred.to_csv('./majority_class_pred.csv', \n",
        "          header = ['status_group'],\n",
        "          index = True,\n",
        "             index_label = 'id')"
      ],
      "execution_count": 0,
      "outputs": []
    },
    {
      "metadata": {
        "id": "b40FohlTaOBE",
        "colab_type": "code",
        "colab": {
          "base_uri": "https://localhost:8080/",
          "height": 34
        },
        "outputId": "22b12946-0829-46dd-db75-c41d4e597e6d"
      },
      "cell_type": "code",
      "source": [
        "y_pred.shape"
      ],
      "execution_count": 114,
      "outputs": [
        {
          "output_type": "execute_result",
          "data": {
            "text/plain": [
              "(14358, 1)"
            ]
          },
          "metadata": {
            "tags": []
          },
          "execution_count": 114
        }
      ]
    },
    {
      "metadata": {
        "id": "yn8d0bt-aq9K",
        "colab_type": "text"
      },
      "cell_type": "markdown",
      "source": [
        "### This gives us a score of 0.53"
      ]
    },
    {
      "metadata": {
        "id": "oDqURBCuavkJ",
        "colab_type": "text"
      },
      "cell_type": "markdown",
      "source": [
        "# Predict with just the numerical features"
      ]
    },
    {
      "metadata": {
        "id": "gOqMsOr3auBW",
        "colab_type": "code",
        "colab": {
          "base_uri": "https://localhost:8080/",
          "height": 235
        },
        "outputId": "654fc039-24cb-408c-8d34-f49c3863d2cb"
      },
      "cell_type": "code",
      "source": [
        "# numerical = ['int16', 'int32', 'int64', 'float16', 'float32', 'float64']\n",
        "X_train_numerical = X_train_original.select_dtypes(include = np.number).copy()\n",
        "X_train_numerical.head()"
      ],
      "execution_count": 115,
      "outputs": [
        {
          "output_type": "execute_result",
          "data": {
            "text/html": [
              "<div>\n",
              "<style scoped>\n",
              "    .dataframe tbody tr th:only-of-type {\n",
              "        vertical-align: middle;\n",
              "    }\n",
              "\n",
              "    .dataframe tbody tr th {\n",
              "        vertical-align: top;\n",
              "    }\n",
              "\n",
              "    .dataframe thead th {\n",
              "        text-align: right;\n",
              "    }\n",
              "</style>\n",
              "<table border=\"1\" class=\"dataframe\">\n",
              "  <thead>\n",
              "    <tr style=\"text-align: right;\">\n",
              "      <th></th>\n",
              "      <th>amount_tsh</th>\n",
              "      <th>gps_height</th>\n",
              "      <th>longitude</th>\n",
              "      <th>latitude</th>\n",
              "      <th>num_private</th>\n",
              "      <th>region_code</th>\n",
              "      <th>district_code</th>\n",
              "      <th>population</th>\n",
              "      <th>construction_year</th>\n",
              "    </tr>\n",
              "    <tr>\n",
              "      <th>id</th>\n",
              "      <th></th>\n",
              "      <th></th>\n",
              "      <th></th>\n",
              "      <th></th>\n",
              "      <th></th>\n",
              "      <th></th>\n",
              "      <th></th>\n",
              "      <th></th>\n",
              "      <th></th>\n",
              "    </tr>\n",
              "  </thead>\n",
              "  <tbody>\n",
              "    <tr>\n",
              "      <th>69572</th>\n",
              "      <td>6000.0</td>\n",
              "      <td>1390</td>\n",
              "      <td>34.938093</td>\n",
              "      <td>-9.856322</td>\n",
              "      <td>0</td>\n",
              "      <td>11</td>\n",
              "      <td>5</td>\n",
              "      <td>109</td>\n",
              "      <td>1999</td>\n",
              "    </tr>\n",
              "    <tr>\n",
              "      <th>8776</th>\n",
              "      <td>0.0</td>\n",
              "      <td>1399</td>\n",
              "      <td>34.698766</td>\n",
              "      <td>-2.147466</td>\n",
              "      <td>0</td>\n",
              "      <td>20</td>\n",
              "      <td>2</td>\n",
              "      <td>280</td>\n",
              "      <td>2010</td>\n",
              "    </tr>\n",
              "    <tr>\n",
              "      <th>34310</th>\n",
              "      <td>25.0</td>\n",
              "      <td>686</td>\n",
              "      <td>37.460664</td>\n",
              "      <td>-3.821329</td>\n",
              "      <td>0</td>\n",
              "      <td>21</td>\n",
              "      <td>4</td>\n",
              "      <td>250</td>\n",
              "      <td>2009</td>\n",
              "    </tr>\n",
              "    <tr>\n",
              "      <th>67743</th>\n",
              "      <td>0.0</td>\n",
              "      <td>263</td>\n",
              "      <td>38.486161</td>\n",
              "      <td>-11.155298</td>\n",
              "      <td>0</td>\n",
              "      <td>90</td>\n",
              "      <td>63</td>\n",
              "      <td>58</td>\n",
              "      <td>1986</td>\n",
              "    </tr>\n",
              "    <tr>\n",
              "      <th>19728</th>\n",
              "      <td>0.0</td>\n",
              "      <td>0</td>\n",
              "      <td>31.130847</td>\n",
              "      <td>-1.825359</td>\n",
              "      <td>0</td>\n",
              "      <td>18</td>\n",
              "      <td>1</td>\n",
              "      <td>0</td>\n",
              "      <td>0</td>\n",
              "    </tr>\n",
              "  </tbody>\n",
              "</table>\n",
              "</div>"
            ],
            "text/plain": [
              "       amount_tsh  gps_height  longitude   latitude  num_private  region_code  \\\n",
              "id                                                                              \n",
              "69572      6000.0        1390  34.938093  -9.856322            0           11   \n",
              "8776          0.0        1399  34.698766  -2.147466            0           20   \n",
              "34310        25.0         686  37.460664  -3.821329            0           21   \n",
              "67743         0.0         263  38.486161 -11.155298            0           90   \n",
              "19728         0.0           0  31.130847  -1.825359            0           18   \n",
              "\n",
              "       district_code  population  construction_year  \n",
              "id                                                   \n",
              "69572              5         109               1999  \n",
              "8776               2         280               2010  \n",
              "34310              4         250               2009  \n",
              "67743             63          58               1986  \n",
              "19728              1           0                  0  "
            ]
          },
          "metadata": {
            "tags": []
          },
          "execution_count": 115
        }
      ]
    },
    {
      "metadata": {
        "id": "nzAu6pIEjLOQ",
        "colab_type": "text"
      },
      "cell_type": "markdown",
      "source": [
        "### Convert date_recorded to days since epoch"
      ]
    },
    {
      "metadata": {
        "id": "lcRp19K6jQiQ",
        "colab_type": "code",
        "colab": {
          "base_uri": "https://localhost:8080/",
          "height": 235
        },
        "outputId": "32219d21-e41f-4282-8c2a-3269627ccfaa"
      },
      "cell_type": "code",
      "source": [
        "days_since_epoch = pd.to_datetime(X_train_original['date_recorded']) - pd.datetime(1970, 1, 1)\n",
        "X_train_numerical['days_since_epoch'] = days_since_epoch.dt.days\n",
        "X_train_numerical.head()"
      ],
      "execution_count": 116,
      "outputs": [
        {
          "output_type": "execute_result",
          "data": {
            "text/html": [
              "<div>\n",
              "<style scoped>\n",
              "    .dataframe tbody tr th:only-of-type {\n",
              "        vertical-align: middle;\n",
              "    }\n",
              "\n",
              "    .dataframe tbody tr th {\n",
              "        vertical-align: top;\n",
              "    }\n",
              "\n",
              "    .dataframe thead th {\n",
              "        text-align: right;\n",
              "    }\n",
              "</style>\n",
              "<table border=\"1\" class=\"dataframe\">\n",
              "  <thead>\n",
              "    <tr style=\"text-align: right;\">\n",
              "      <th></th>\n",
              "      <th>amount_tsh</th>\n",
              "      <th>gps_height</th>\n",
              "      <th>longitude</th>\n",
              "      <th>latitude</th>\n",
              "      <th>num_private</th>\n",
              "      <th>region_code</th>\n",
              "      <th>district_code</th>\n",
              "      <th>population</th>\n",
              "      <th>construction_year</th>\n",
              "      <th>days_since_epoch</th>\n",
              "    </tr>\n",
              "    <tr>\n",
              "      <th>id</th>\n",
              "      <th></th>\n",
              "      <th></th>\n",
              "      <th></th>\n",
              "      <th></th>\n",
              "      <th></th>\n",
              "      <th></th>\n",
              "      <th></th>\n",
              "      <th></th>\n",
              "      <th></th>\n",
              "      <th></th>\n",
              "    </tr>\n",
              "  </thead>\n",
              "  <tbody>\n",
              "    <tr>\n",
              "      <th>69572</th>\n",
              "      <td>6000.0</td>\n",
              "      <td>1390</td>\n",
              "      <td>34.938093</td>\n",
              "      <td>-9.856322</td>\n",
              "      <td>0</td>\n",
              "      <td>11</td>\n",
              "      <td>5</td>\n",
              "      <td>109</td>\n",
              "      <td>1999</td>\n",
              "      <td>15047</td>\n",
              "    </tr>\n",
              "    <tr>\n",
              "      <th>8776</th>\n",
              "      <td>0.0</td>\n",
              "      <td>1399</td>\n",
              "      <td>34.698766</td>\n",
              "      <td>-2.147466</td>\n",
              "      <td>0</td>\n",
              "      <td>20</td>\n",
              "      <td>2</td>\n",
              "      <td>280</td>\n",
              "      <td>2010</td>\n",
              "      <td>15770</td>\n",
              "    </tr>\n",
              "    <tr>\n",
              "      <th>34310</th>\n",
              "      <td>25.0</td>\n",
              "      <td>686</td>\n",
              "      <td>37.460664</td>\n",
              "      <td>-3.821329</td>\n",
              "      <td>0</td>\n",
              "      <td>21</td>\n",
              "      <td>4</td>\n",
              "      <td>250</td>\n",
              "      <td>2009</td>\n",
              "      <td>15761</td>\n",
              "    </tr>\n",
              "    <tr>\n",
              "      <th>67743</th>\n",
              "      <td>0.0</td>\n",
              "      <td>263</td>\n",
              "      <td>38.486161</td>\n",
              "      <td>-11.155298</td>\n",
              "      <td>0</td>\n",
              "      <td>90</td>\n",
              "      <td>63</td>\n",
              "      <td>58</td>\n",
              "      <td>1986</td>\n",
              "      <td>15733</td>\n",
              "    </tr>\n",
              "    <tr>\n",
              "      <th>19728</th>\n",
              "      <td>0.0</td>\n",
              "      <td>0</td>\n",
              "      <td>31.130847</td>\n",
              "      <td>-1.825359</td>\n",
              "      <td>0</td>\n",
              "      <td>18</td>\n",
              "      <td>1</td>\n",
              "      <td>0</td>\n",
              "      <td>0</td>\n",
              "      <td>15168</td>\n",
              "    </tr>\n",
              "  </tbody>\n",
              "</table>\n",
              "</div>"
            ],
            "text/plain": [
              "       amount_tsh  gps_height  longitude   latitude  num_private  region_code  \\\n",
              "id                                                                              \n",
              "69572      6000.0        1390  34.938093  -9.856322            0           11   \n",
              "8776          0.0        1399  34.698766  -2.147466            0           20   \n",
              "34310        25.0         686  37.460664  -3.821329            0           21   \n",
              "67743         0.0         263  38.486161 -11.155298            0           90   \n",
              "19728         0.0           0  31.130847  -1.825359            0           18   \n",
              "\n",
              "       district_code  population  construction_year  days_since_epoch  \n",
              "id                                                                     \n",
              "69572              5         109               1999             15047  \n",
              "8776               2         280               2010             15770  \n",
              "34310              4         250               2009             15761  \n",
              "67743             63          58               1986             15733  \n",
              "19728              1           0                  0             15168  "
            ]
          },
          "metadata": {
            "tags": []
          },
          "execution_count": 116
        }
      ]
    },
    {
      "metadata": {
        "id": "75-fQ7CuauGK",
        "colab_type": "code",
        "colab": {
          "base_uri": "https://localhost:8080/",
          "height": 235
        },
        "outputId": "b1d98bc0-3a9e-4691-fa98-e7e22d416b3b"
      },
      "cell_type": "code",
      "source": [
        "X_train_numerical_indices = X_train_numerical.index.values\n",
        "y_train_numerical = \\\n",
        "  y_train_original[y_train_original.index.isin(X_train_numerical_indices)]\n",
        "y_train_numerical.head()"
      ],
      "execution_count": 117,
      "outputs": [
        {
          "output_type": "execute_result",
          "data": {
            "text/html": [
              "<div>\n",
              "<style scoped>\n",
              "    .dataframe tbody tr th:only-of-type {\n",
              "        vertical-align: middle;\n",
              "    }\n",
              "\n",
              "    .dataframe tbody tr th {\n",
              "        vertical-align: top;\n",
              "    }\n",
              "\n",
              "    .dataframe thead th {\n",
              "        text-align: right;\n",
              "    }\n",
              "</style>\n",
              "<table border=\"1\" class=\"dataframe\">\n",
              "  <thead>\n",
              "    <tr style=\"text-align: right;\">\n",
              "      <th></th>\n",
              "      <th>status_group</th>\n",
              "    </tr>\n",
              "    <tr>\n",
              "      <th>id</th>\n",
              "      <th></th>\n",
              "    </tr>\n",
              "  </thead>\n",
              "  <tbody>\n",
              "    <tr>\n",
              "      <th>69572</th>\n",
              "      <td>functional</td>\n",
              "    </tr>\n",
              "    <tr>\n",
              "      <th>8776</th>\n",
              "      <td>functional</td>\n",
              "    </tr>\n",
              "    <tr>\n",
              "      <th>34310</th>\n",
              "      <td>functional</td>\n",
              "    </tr>\n",
              "    <tr>\n",
              "      <th>67743</th>\n",
              "      <td>non functional</td>\n",
              "    </tr>\n",
              "    <tr>\n",
              "      <th>19728</th>\n",
              "      <td>functional</td>\n",
              "    </tr>\n",
              "  </tbody>\n",
              "</table>\n",
              "</div>"
            ],
            "text/plain": [
              "         status_group\n",
              "id                   \n",
              "69572      functional\n",
              "8776       functional\n",
              "34310      functional\n",
              "67743  non functional\n",
              "19728      functional"
            ]
          },
          "metadata": {
            "tags": []
          },
          "execution_count": 117
        }
      ]
    },
    {
      "metadata": {
        "id": "y-MfJ-SdfqIa",
        "colab_type": "text"
      },
      "cell_type": "markdown",
      "source": [
        "### Check X_train_numerical and y_train_numerical"
      ]
    },
    {
      "metadata": {
        "id": "tLLDkyNxf3Fg",
        "colab_type": "code",
        "colab": {
          "base_uri": "https://localhost:8080/",
          "height": 34
        },
        "outputId": "7d38d2e4-a863-417f-e0c9-770c936e0615"
      },
      "cell_type": "code",
      "source": [
        "X_train_numerical.shape, y_train_numerical.shape"
      ],
      "execution_count": 118,
      "outputs": [
        {
          "output_type": "execute_result",
          "data": {
            "text/plain": [
              "((59400, 10), (59400, 1))"
            ]
          },
          "metadata": {
            "tags": []
          },
          "execution_count": 118
        }
      ]
    },
    {
      "metadata": {
        "id": "xJRjgabVauD_",
        "colab_type": "code",
        "colab": {
          "base_uri": "https://localhost:8080/",
          "height": 34
        },
        "outputId": "963f1b1e-75a6-429a-c11a-bdb2c970e2a1"
      },
      "cell_type": "code",
      "source": [
        "np.all(y_train_numerical.index.values == \\\n",
        "       X_train_numerical.index.values)"
      ],
      "execution_count": 119,
      "outputs": [
        {
          "output_type": "execute_result",
          "data": {
            "text/plain": [
              "True"
            ]
          },
          "metadata": {
            "tags": []
          },
          "execution_count": 119
        }
      ]
    },
    {
      "metadata": {
        "id": "u5fOsztwroVh",
        "colab_type": "text"
      },
      "cell_type": "markdown",
      "source": [
        "### Let's try with a LogisticRegression Classifier"
      ]
    },
    {
      "metadata": {
        "id": "keQdyzzlcSBf",
        "colab_type": "code",
        "colab": {
          "base_uri": "https://localhost:8080/",
          "height": 68
        },
        "outputId": "185f8903-08c7-4452-d22e-dbe51ecf3068"
      },
      "cell_type": "code",
      "source": [
        "cv_score = cross_val_score(LogisticRegression(), \n",
        "                            X_train_numerical, y_train_numerical,\n",
        "                            scoring = 'accuracy',\n",
        "                            cv = 3,\n",
        "                            n_jobs = -1,\n",
        "                            verbose = 1)\n",
        "cv_score"
      ],
      "execution_count": 120,
      "outputs": [
        {
          "output_type": "stream",
          "text": [
            "[Parallel(n_jobs=-1)]: Using backend LokyBackend with 2 concurrent workers.\n",
            "[Parallel(n_jobs=-1)]: Done   3 out of   3 | elapsed:    4.2s finished\n"
          ],
          "name": "stderr"
        },
        {
          "output_type": "execute_result",
          "data": {
            "text/plain": [
              "array([0.55909091, 0.55666667, 0.55712121])"
            ]
          },
          "metadata": {
            "tags": []
          },
          "execution_count": 120
        }
      ]
    },
    {
      "metadata": {
        "id": "Z97av2wxrxEv",
        "colab_type": "text"
      },
      "cell_type": "markdown",
      "source": [
        "### LogisticRegression classifier gave us a score of 0.55"
      ]
    },
    {
      "metadata": {
        "id": "CcG64VJallq2",
        "colab_type": "text"
      },
      "cell_type": "markdown",
      "source": [
        "### Let's try with a DecisionTreeClassifier"
      ]
    },
    {
      "metadata": {
        "id": "TGlHFArScR_P",
        "colab_type": "code",
        "colab": {
          "base_uri": "https://localhost:8080/",
          "height": 68
        },
        "outputId": "774759b8-95ac-421f-ff55-a5488ba3ed95"
      },
      "cell_type": "code",
      "source": [
        "clf = DecisionTreeClassifier()\n",
        "cv_score = cross_val_score(clf, \n",
        "                            X_train_numerical, y_train_numerical,\n",
        "                            scoring = 'accuracy',\n",
        "                            cv = 3,\n",
        "                            n_jobs = -1,\n",
        "                            verbose = 1)\n",
        "cv_score"
      ],
      "execution_count": 121,
      "outputs": [
        {
          "output_type": "stream",
          "text": [
            "[Parallel(n_jobs=-1)]: Using backend LokyBackend with 2 concurrent workers.\n",
            "[Parallel(n_jobs=-1)]: Done   3 out of   3 | elapsed:    1.2s finished\n"
          ],
          "name": "stderr"
        },
        {
          "output_type": "execute_result",
          "data": {
            "text/plain": [
              "array([0.67419192, 0.66929293, 0.66121212])"
            ]
          },
          "metadata": {
            "tags": []
          },
          "execution_count": 121
        }
      ]
    },
    {
      "metadata": {
        "id": "N2hwKXjbr62j",
        "colab_type": "text"
      },
      "cell_type": "markdown",
      "source": [
        "### DecisionTree classifier gave us a score of 0.65.  Let's write it out to a file and submit it."
      ]
    },
    {
      "metadata": {
        "id": "ZHuw3uXnolD1",
        "colab_type": "code",
        "colab": {}
      },
      "cell_type": "code",
      "source": [
        "clf.fit(X_train_numerical, y_train_numerical)\n",
        "X_test_numerical = X_test_original.select_dtypes(include = np.number).copy()\n",
        "days_since_epoch = pd.to_datetime(X_test_original['date_recorded']) - \\\n",
        "                   pd.datetime(1970, 1, 1)\n",
        "X_test_numerical['days_since_epoch'] = days_since_epoch.dt.days\n",
        "\n",
        "y_pred = clf.predict(X_test_numerical)"
      ],
      "execution_count": 0,
      "outputs": []
    },
    {
      "metadata": {
        "id": "dnimkSc5qR0e",
        "colab_type": "code",
        "colab": {
          "base_uri": "https://localhost:8080/",
          "height": 204
        },
        "outputId": "4db43b90-d870-44d5-9345-c6f7d1e897c7"
      },
      "cell_type": "code",
      "source": [
        "y_pred = pd.DataFrame(data = y_pred, \n",
        "                      index = X_test_numerical.index.values,\n",
        "                      columns = ['status_group'])\n",
        "y_pred.head()"
      ],
      "execution_count": 123,
      "outputs": [
        {
          "output_type": "execute_result",
          "data": {
            "text/html": [
              "<div>\n",
              "<style scoped>\n",
              "    .dataframe tbody tr th:only-of-type {\n",
              "        vertical-align: middle;\n",
              "    }\n",
              "\n",
              "    .dataframe tbody tr th {\n",
              "        vertical-align: top;\n",
              "    }\n",
              "\n",
              "    .dataframe thead th {\n",
              "        text-align: right;\n",
              "    }\n",
              "</style>\n",
              "<table border=\"1\" class=\"dataframe\">\n",
              "  <thead>\n",
              "    <tr style=\"text-align: right;\">\n",
              "      <th></th>\n",
              "      <th>status_group</th>\n",
              "    </tr>\n",
              "  </thead>\n",
              "  <tbody>\n",
              "    <tr>\n",
              "      <th>50785</th>\n",
              "      <td>non functional</td>\n",
              "    </tr>\n",
              "    <tr>\n",
              "      <th>51630</th>\n",
              "      <td>functional</td>\n",
              "    </tr>\n",
              "    <tr>\n",
              "      <th>17168</th>\n",
              "      <td>functional</td>\n",
              "    </tr>\n",
              "    <tr>\n",
              "      <th>45559</th>\n",
              "      <td>non functional</td>\n",
              "    </tr>\n",
              "    <tr>\n",
              "      <th>49871</th>\n",
              "      <td>functional</td>\n",
              "    </tr>\n",
              "  </tbody>\n",
              "</table>\n",
              "</div>"
            ],
            "text/plain": [
              "         status_group\n",
              "50785  non functional\n",
              "51630      functional\n",
              "17168      functional\n",
              "45559  non functional\n",
              "49871      functional"
            ]
          },
          "metadata": {
            "tags": []
          },
          "execution_count": 123
        }
      ]
    },
    {
      "metadata": {
        "id": "96sr5JPHok8b",
        "colab_type": "code",
        "colab": {}
      },
      "cell_type": "code",
      "source": [
        "y_pred.to_csv('./decision_tree_pred.csv', \n",
        "          header = ['status_group'],\n",
        "          index = True,\n",
        "             index_label = 'id')"
      ],
      "execution_count": 0,
      "outputs": []
    },
    {
      "metadata": {
        "id": "wqAzj6qPaOBH",
        "colab_type": "text"
      },
      "cell_type": "markdown",
      "source": [
        "## Check data for missing or unusual values"
      ]
    },
    {
      "metadata": {
        "id": "RBeVhvKjuOWX",
        "colab_type": "code",
        "colab": {
          "base_uri": "https://localhost:8080/",
          "height": 697
        },
        "outputId": "d0213753-03c7-420d-cc1b-034263b858ce"
      },
      "cell_type": "code",
      "source": [
        "X_train_original.isnull().sum()"
      ],
      "execution_count": 125,
      "outputs": [
        {
          "output_type": "execute_result",
          "data": {
            "text/plain": [
              "amount_tsh                   0\n",
              "date_recorded                0\n",
              "funder                    3635\n",
              "gps_height                   0\n",
              "installer                 3655\n",
              "longitude                    0\n",
              "latitude                     0\n",
              "wpt_name                     0\n",
              "num_private                  0\n",
              "basin                        0\n",
              "subvillage                 371\n",
              "region                       0\n",
              "region_code                  0\n",
              "district_code                0\n",
              "lga                          0\n",
              "ward                         0\n",
              "population                   0\n",
              "public_meeting            3334\n",
              "recorded_by                  0\n",
              "scheme_management         3877\n",
              "scheme_name              28166\n",
              "permit                    3056\n",
              "construction_year            0\n",
              "extraction_type              0\n",
              "extraction_type_group        0\n",
              "extraction_type_class        0\n",
              "management                   0\n",
              "management_group             0\n",
              "payment                      0\n",
              "payment_type                 0\n",
              "water_quality                0\n",
              "quality_group                0\n",
              "quantity                     0\n",
              "quantity_group               0\n",
              "source                       0\n",
              "source_type                  0\n",
              "source_class                 0\n",
              "waterpoint_type              0\n",
              "waterpoint_type_group        0\n",
              "dtype: int64"
            ]
          },
          "metadata": {
            "tags": []
          },
          "execution_count": 125
        }
      ]
    },
    {
      "metadata": {
        "id": "rESbDv-iuNuH",
        "colab_type": "code",
        "colab": {
          "base_uri": "https://localhost:8080/",
          "height": 34
        },
        "outputId": "8fb9a23b-b107-4d42-b12d-cfed3c472c09"
      },
      "cell_type": "code",
      "source": [
        "X_train_original.shape"
      ],
      "execution_count": 126,
      "outputs": [
        {
          "output_type": "execute_result",
          "data": {
            "text/plain": [
              "(59400, 39)"
            ]
          },
          "metadata": {
            "tags": []
          },
          "execution_count": 126
        }
      ]
    },
    {
      "metadata": {
        "id": "xJiJOqFsvvr7",
        "colab_type": "text"
      },
      "cell_type": "markdown",
      "source": [
        "### Let's drop columns that have nulls"
      ]
    },
    {
      "metadata": {
        "id": "8EbEXTKHuNoi",
        "colab_type": "code",
        "colab": {
          "base_uri": "https://localhost:8080/",
          "height": 459
        },
        "outputId": "966b82a6-8e71-41d2-e4e2-d0ae20d56c46"
      },
      "cell_type": "code",
      "source": [
        "X_non_nulls = X_train_original.dropna(axis = 1)\n",
        "print('X_non_nulls.shape:', X_non_nulls.shape)\n",
        "X_non_nulls.head()"
      ],
      "execution_count": 127,
      "outputs": [
        {
          "output_type": "stream",
          "text": [
            "X_non_nulls.shape: (59400, 32)\n"
          ],
          "name": "stdout"
        },
        {
          "output_type": "execute_result",
          "data": {
            "text/html": [
              "<div>\n",
              "<style scoped>\n",
              "    .dataframe tbody tr th:only-of-type {\n",
              "        vertical-align: middle;\n",
              "    }\n",
              "\n",
              "    .dataframe tbody tr th {\n",
              "        vertical-align: top;\n",
              "    }\n",
              "\n",
              "    .dataframe thead th {\n",
              "        text-align: right;\n",
              "    }\n",
              "</style>\n",
              "<table border=\"1\" class=\"dataframe\">\n",
              "  <thead>\n",
              "    <tr style=\"text-align: right;\">\n",
              "      <th></th>\n",
              "      <th>amount_tsh</th>\n",
              "      <th>date_recorded</th>\n",
              "      <th>gps_height</th>\n",
              "      <th>longitude</th>\n",
              "      <th>latitude</th>\n",
              "      <th>wpt_name</th>\n",
              "      <th>num_private</th>\n",
              "      <th>basin</th>\n",
              "      <th>region</th>\n",
              "      <th>region_code</th>\n",
              "      <th>district_code</th>\n",
              "      <th>lga</th>\n",
              "      <th>ward</th>\n",
              "      <th>population</th>\n",
              "      <th>recorded_by</th>\n",
              "      <th>construction_year</th>\n",
              "      <th>extraction_type</th>\n",
              "      <th>extraction_type_group</th>\n",
              "      <th>extraction_type_class</th>\n",
              "      <th>management</th>\n",
              "      <th>management_group</th>\n",
              "      <th>payment</th>\n",
              "      <th>payment_type</th>\n",
              "      <th>water_quality</th>\n",
              "      <th>quality_group</th>\n",
              "      <th>quantity</th>\n",
              "      <th>quantity_group</th>\n",
              "      <th>source</th>\n",
              "      <th>source_type</th>\n",
              "      <th>source_class</th>\n",
              "      <th>waterpoint_type</th>\n",
              "      <th>waterpoint_type_group</th>\n",
              "    </tr>\n",
              "    <tr>\n",
              "      <th>id</th>\n",
              "      <th></th>\n",
              "      <th></th>\n",
              "      <th></th>\n",
              "      <th></th>\n",
              "      <th></th>\n",
              "      <th></th>\n",
              "      <th></th>\n",
              "      <th></th>\n",
              "      <th></th>\n",
              "      <th></th>\n",
              "      <th></th>\n",
              "      <th></th>\n",
              "      <th></th>\n",
              "      <th></th>\n",
              "      <th></th>\n",
              "      <th></th>\n",
              "      <th></th>\n",
              "      <th></th>\n",
              "      <th></th>\n",
              "      <th></th>\n",
              "      <th></th>\n",
              "      <th></th>\n",
              "      <th></th>\n",
              "      <th></th>\n",
              "      <th></th>\n",
              "      <th></th>\n",
              "      <th></th>\n",
              "      <th></th>\n",
              "      <th></th>\n",
              "      <th></th>\n",
              "      <th></th>\n",
              "      <th></th>\n",
              "    </tr>\n",
              "  </thead>\n",
              "  <tbody>\n",
              "    <tr>\n",
              "      <th>69572</th>\n",
              "      <td>6000.0</td>\n",
              "      <td>2011-03-14</td>\n",
              "      <td>1390</td>\n",
              "      <td>34.938093</td>\n",
              "      <td>-9.856322</td>\n",
              "      <td>none</td>\n",
              "      <td>0</td>\n",
              "      <td>Lake Nyasa</td>\n",
              "      <td>Iringa</td>\n",
              "      <td>11</td>\n",
              "      <td>5</td>\n",
              "      <td>Ludewa</td>\n",
              "      <td>Mundindi</td>\n",
              "      <td>109</td>\n",
              "      <td>GeoData Consultants Ltd</td>\n",
              "      <td>1999</td>\n",
              "      <td>gravity</td>\n",
              "      <td>gravity</td>\n",
              "      <td>gravity</td>\n",
              "      <td>vwc</td>\n",
              "      <td>user-group</td>\n",
              "      <td>pay annually</td>\n",
              "      <td>annually</td>\n",
              "      <td>soft</td>\n",
              "      <td>good</td>\n",
              "      <td>enough</td>\n",
              "      <td>enough</td>\n",
              "      <td>spring</td>\n",
              "      <td>spring</td>\n",
              "      <td>groundwater</td>\n",
              "      <td>communal standpipe</td>\n",
              "      <td>communal standpipe</td>\n",
              "    </tr>\n",
              "    <tr>\n",
              "      <th>8776</th>\n",
              "      <td>0.0</td>\n",
              "      <td>2013-03-06</td>\n",
              "      <td>1399</td>\n",
              "      <td>34.698766</td>\n",
              "      <td>-2.147466</td>\n",
              "      <td>Zahanati</td>\n",
              "      <td>0</td>\n",
              "      <td>Lake Victoria</td>\n",
              "      <td>Mara</td>\n",
              "      <td>20</td>\n",
              "      <td>2</td>\n",
              "      <td>Serengeti</td>\n",
              "      <td>Natta</td>\n",
              "      <td>280</td>\n",
              "      <td>GeoData Consultants Ltd</td>\n",
              "      <td>2010</td>\n",
              "      <td>gravity</td>\n",
              "      <td>gravity</td>\n",
              "      <td>gravity</td>\n",
              "      <td>wug</td>\n",
              "      <td>user-group</td>\n",
              "      <td>never pay</td>\n",
              "      <td>never pay</td>\n",
              "      <td>soft</td>\n",
              "      <td>good</td>\n",
              "      <td>insufficient</td>\n",
              "      <td>insufficient</td>\n",
              "      <td>rainwater harvesting</td>\n",
              "      <td>rainwater harvesting</td>\n",
              "      <td>surface</td>\n",
              "      <td>communal standpipe</td>\n",
              "      <td>communal standpipe</td>\n",
              "    </tr>\n",
              "    <tr>\n",
              "      <th>34310</th>\n",
              "      <td>25.0</td>\n",
              "      <td>2013-02-25</td>\n",
              "      <td>686</td>\n",
              "      <td>37.460664</td>\n",
              "      <td>-3.821329</td>\n",
              "      <td>Kwa Mahundi</td>\n",
              "      <td>0</td>\n",
              "      <td>Pangani</td>\n",
              "      <td>Manyara</td>\n",
              "      <td>21</td>\n",
              "      <td>4</td>\n",
              "      <td>Simanjiro</td>\n",
              "      <td>Ngorika</td>\n",
              "      <td>250</td>\n",
              "      <td>GeoData Consultants Ltd</td>\n",
              "      <td>2009</td>\n",
              "      <td>gravity</td>\n",
              "      <td>gravity</td>\n",
              "      <td>gravity</td>\n",
              "      <td>vwc</td>\n",
              "      <td>user-group</td>\n",
              "      <td>pay per bucket</td>\n",
              "      <td>per bucket</td>\n",
              "      <td>soft</td>\n",
              "      <td>good</td>\n",
              "      <td>enough</td>\n",
              "      <td>enough</td>\n",
              "      <td>dam</td>\n",
              "      <td>dam</td>\n",
              "      <td>surface</td>\n",
              "      <td>communal standpipe multiple</td>\n",
              "      <td>communal standpipe</td>\n",
              "    </tr>\n",
              "    <tr>\n",
              "      <th>67743</th>\n",
              "      <td>0.0</td>\n",
              "      <td>2013-01-28</td>\n",
              "      <td>263</td>\n",
              "      <td>38.486161</td>\n",
              "      <td>-11.155298</td>\n",
              "      <td>Zahanati Ya Nanyumbu</td>\n",
              "      <td>0</td>\n",
              "      <td>Ruvuma / Southern Coast</td>\n",
              "      <td>Mtwara</td>\n",
              "      <td>90</td>\n",
              "      <td>63</td>\n",
              "      <td>Nanyumbu</td>\n",
              "      <td>Nanyumbu</td>\n",
              "      <td>58</td>\n",
              "      <td>GeoData Consultants Ltd</td>\n",
              "      <td>1986</td>\n",
              "      <td>submersible</td>\n",
              "      <td>submersible</td>\n",
              "      <td>submersible</td>\n",
              "      <td>vwc</td>\n",
              "      <td>user-group</td>\n",
              "      <td>never pay</td>\n",
              "      <td>never pay</td>\n",
              "      <td>soft</td>\n",
              "      <td>good</td>\n",
              "      <td>dry</td>\n",
              "      <td>dry</td>\n",
              "      <td>machine dbh</td>\n",
              "      <td>borehole</td>\n",
              "      <td>groundwater</td>\n",
              "      <td>communal standpipe multiple</td>\n",
              "      <td>communal standpipe</td>\n",
              "    </tr>\n",
              "    <tr>\n",
              "      <th>19728</th>\n",
              "      <td>0.0</td>\n",
              "      <td>2011-07-13</td>\n",
              "      <td>0</td>\n",
              "      <td>31.130847</td>\n",
              "      <td>-1.825359</td>\n",
              "      <td>Shuleni</td>\n",
              "      <td>0</td>\n",
              "      <td>Lake Victoria</td>\n",
              "      <td>Kagera</td>\n",
              "      <td>18</td>\n",
              "      <td>1</td>\n",
              "      <td>Karagwe</td>\n",
              "      <td>Nyakasimbi</td>\n",
              "      <td>0</td>\n",
              "      <td>GeoData Consultants Ltd</td>\n",
              "      <td>0</td>\n",
              "      <td>gravity</td>\n",
              "      <td>gravity</td>\n",
              "      <td>gravity</td>\n",
              "      <td>other</td>\n",
              "      <td>other</td>\n",
              "      <td>never pay</td>\n",
              "      <td>never pay</td>\n",
              "      <td>soft</td>\n",
              "      <td>good</td>\n",
              "      <td>seasonal</td>\n",
              "      <td>seasonal</td>\n",
              "      <td>rainwater harvesting</td>\n",
              "      <td>rainwater harvesting</td>\n",
              "      <td>surface</td>\n",
              "      <td>communal standpipe</td>\n",
              "      <td>communal standpipe</td>\n",
              "    </tr>\n",
              "  </tbody>\n",
              "</table>\n",
              "</div>"
            ],
            "text/plain": [
              "       amount_tsh date_recorded  gps_height  longitude   latitude  \\\n",
              "id                                                                  \n",
              "69572      6000.0    2011-03-14        1390  34.938093  -9.856322   \n",
              "8776          0.0    2013-03-06        1399  34.698766  -2.147466   \n",
              "34310        25.0    2013-02-25         686  37.460664  -3.821329   \n",
              "67743         0.0    2013-01-28         263  38.486161 -11.155298   \n",
              "19728         0.0    2011-07-13           0  31.130847  -1.825359   \n",
              "\n",
              "                   wpt_name  num_private                    basin   region  \\\n",
              "id                                                                           \n",
              "69572                  none            0               Lake Nyasa   Iringa   \n",
              "8776               Zahanati            0            Lake Victoria     Mara   \n",
              "34310           Kwa Mahundi            0                  Pangani  Manyara   \n",
              "67743  Zahanati Ya Nanyumbu            0  Ruvuma / Southern Coast   Mtwara   \n",
              "19728               Shuleni            0            Lake Victoria   Kagera   \n",
              "\n",
              "       region_code  district_code        lga        ward  population  \\\n",
              "id                                                                     \n",
              "69572           11              5     Ludewa    Mundindi         109   \n",
              "8776            20              2  Serengeti       Natta         280   \n",
              "34310           21              4  Simanjiro     Ngorika         250   \n",
              "67743           90             63   Nanyumbu    Nanyumbu          58   \n",
              "19728           18              1    Karagwe  Nyakasimbi           0   \n",
              "\n",
              "                   recorded_by  construction_year extraction_type  \\\n",
              "id                                                                  \n",
              "69572  GeoData Consultants Ltd               1999         gravity   \n",
              "8776   GeoData Consultants Ltd               2010         gravity   \n",
              "34310  GeoData Consultants Ltd               2009         gravity   \n",
              "67743  GeoData Consultants Ltd               1986     submersible   \n",
              "19728  GeoData Consultants Ltd                  0         gravity   \n",
              "\n",
              "      extraction_type_group extraction_type_class management management_group  \\\n",
              "id                                                                              \n",
              "69572               gravity               gravity        vwc       user-group   \n",
              "8776                gravity               gravity        wug       user-group   \n",
              "34310               gravity               gravity        vwc       user-group   \n",
              "67743           submersible           submersible        vwc       user-group   \n",
              "19728               gravity               gravity      other            other   \n",
              "\n",
              "              payment payment_type water_quality quality_group      quantity  \\\n",
              "id                                                                             \n",
              "69572    pay annually     annually          soft          good        enough   \n",
              "8776        never pay    never pay          soft          good  insufficient   \n",
              "34310  pay per bucket   per bucket          soft          good        enough   \n",
              "67743       never pay    never pay          soft          good           dry   \n",
              "19728       never pay    never pay          soft          good      seasonal   \n",
              "\n",
              "      quantity_group                source           source_type source_class  \\\n",
              "id                                                                              \n",
              "69572         enough                spring                spring  groundwater   \n",
              "8776    insufficient  rainwater harvesting  rainwater harvesting      surface   \n",
              "34310         enough                   dam                   dam      surface   \n",
              "67743            dry           machine dbh              borehole  groundwater   \n",
              "19728       seasonal  rainwater harvesting  rainwater harvesting      surface   \n",
              "\n",
              "                   waterpoint_type waterpoint_type_group  \n",
              "id                                                        \n",
              "69572           communal standpipe    communal standpipe  \n",
              "8776            communal standpipe    communal standpipe  \n",
              "34310  communal standpipe multiple    communal standpipe  \n",
              "67743  communal standpipe multiple    communal standpipe  \n",
              "19728           communal standpipe    communal standpipe  "
            ]
          },
          "metadata": {
            "tags": []
          },
          "execution_count": 127
        }
      ]
    },
    {
      "metadata": {
        "id": "NXBzhUnh8TIC",
        "colab_type": "text"
      },
      "cell_type": "markdown",
      "source": [
        "### How many unique values does each column have?"
      ]
    },
    {
      "metadata": {
        "id": "3xkbr1xwaOBI",
        "colab_type": "code",
        "outputId": "390642dd-dea1-4691-ec95-2ab0cd445b33",
        "colab": {
          "base_uri": "https://localhost:8080/",
          "height": 578
        }
      },
      "cell_type": "code",
      "source": [
        "X_non_nulls.nunique().sort_values(ascending = True)"
      ],
      "execution_count": 128,
      "outputs": [
        {
          "output_type": "execute_result",
          "data": {
            "text/plain": [
              "recorded_by                  1\n",
              "source_class                 3\n",
              "management_group             5\n",
              "quantity_group               5\n",
              "quantity                     5\n",
              "quality_group                6\n",
              "waterpoint_type_group        6\n",
              "payment_type                 7\n",
              "payment                      7\n",
              "source_type                  7\n",
              "waterpoint_type              7\n",
              "extraction_type_class        7\n",
              "water_quality                8\n",
              "basin                        9\n",
              "source                      10\n",
              "management                  12\n",
              "extraction_type_group       13\n",
              "extraction_type             18\n",
              "district_code               20\n",
              "region                      21\n",
              "region_code                 27\n",
              "construction_year           55\n",
              "num_private                 65\n",
              "amount_tsh                  98\n",
              "lga                        125\n",
              "date_recorded              356\n",
              "population                1049\n",
              "ward                      2092\n",
              "gps_height                2428\n",
              "wpt_name                 37400\n",
              "longitude                57516\n",
              "latitude                 57517\n",
              "dtype: int64"
            ]
          },
          "metadata": {
            "tags": []
          },
          "execution_count": 128
        }
      ]
    },
    {
      "metadata": {
        "id": "mWwGIhid9Wbt",
        "colab_type": "text"
      },
      "cell_type": "markdown",
      "source": [
        "### According to [this article](https://medium.com/data-design/visiting-categorical-features-and-encoding-in-decision-trees-53400fa65931), the Decision Tree classifier is faster when categorical values are encoded numeric or binary.\n",
        "### Let's encode non-null columns that have < 50 unique values, add the numerical columns to that dataframe, and run a Decision Tree classifier with various depths."
      ]
    },
    {
      "metadata": {
        "id": "pw-tFc55aOBM",
        "colab_type": "code",
        "colab": {
          "base_uri": "https://localhost:8080/",
          "height": 459
        },
        "outputId": "dd72a22e-db60-494a-9fa0-b2f3846bb877"
      },
      "cell_type": "code",
      "source": [
        "X_selected = X_non_nulls.loc[:, X_non_nulls.nunique().sort_values() < 50]\n",
        "print('X_selected.shape:', X_selected.shape)\n",
        "X_selected.head()"
      ],
      "execution_count": 129,
      "outputs": [
        {
          "output_type": "stream",
          "text": [
            "X_selected.shape: (59400, 21)\n"
          ],
          "name": "stdout"
        },
        {
          "output_type": "execute_result",
          "data": {
            "text/html": [
              "<div>\n",
              "<style scoped>\n",
              "    .dataframe tbody tr th:only-of-type {\n",
              "        vertical-align: middle;\n",
              "    }\n",
              "\n",
              "    .dataframe tbody tr th {\n",
              "        vertical-align: top;\n",
              "    }\n",
              "\n",
              "    .dataframe thead th {\n",
              "        text-align: right;\n",
              "    }\n",
              "</style>\n",
              "<table border=\"1\" class=\"dataframe\">\n",
              "  <thead>\n",
              "    <tr style=\"text-align: right;\">\n",
              "      <th></th>\n",
              "      <th>basin</th>\n",
              "      <th>region</th>\n",
              "      <th>region_code</th>\n",
              "      <th>district_code</th>\n",
              "      <th>recorded_by</th>\n",
              "      <th>extraction_type</th>\n",
              "      <th>extraction_type_group</th>\n",
              "      <th>extraction_type_class</th>\n",
              "      <th>management</th>\n",
              "      <th>management_group</th>\n",
              "      <th>payment</th>\n",
              "      <th>payment_type</th>\n",
              "      <th>water_quality</th>\n",
              "      <th>quality_group</th>\n",
              "      <th>quantity</th>\n",
              "      <th>quantity_group</th>\n",
              "      <th>source</th>\n",
              "      <th>source_type</th>\n",
              "      <th>source_class</th>\n",
              "      <th>waterpoint_type</th>\n",
              "      <th>waterpoint_type_group</th>\n",
              "    </tr>\n",
              "    <tr>\n",
              "      <th>id</th>\n",
              "      <th></th>\n",
              "      <th></th>\n",
              "      <th></th>\n",
              "      <th></th>\n",
              "      <th></th>\n",
              "      <th></th>\n",
              "      <th></th>\n",
              "      <th></th>\n",
              "      <th></th>\n",
              "      <th></th>\n",
              "      <th></th>\n",
              "      <th></th>\n",
              "      <th></th>\n",
              "      <th></th>\n",
              "      <th></th>\n",
              "      <th></th>\n",
              "      <th></th>\n",
              "      <th></th>\n",
              "      <th></th>\n",
              "      <th></th>\n",
              "      <th></th>\n",
              "    </tr>\n",
              "  </thead>\n",
              "  <tbody>\n",
              "    <tr>\n",
              "      <th>69572</th>\n",
              "      <td>Lake Nyasa</td>\n",
              "      <td>Iringa</td>\n",
              "      <td>11</td>\n",
              "      <td>5</td>\n",
              "      <td>GeoData Consultants Ltd</td>\n",
              "      <td>gravity</td>\n",
              "      <td>gravity</td>\n",
              "      <td>gravity</td>\n",
              "      <td>vwc</td>\n",
              "      <td>user-group</td>\n",
              "      <td>pay annually</td>\n",
              "      <td>annually</td>\n",
              "      <td>soft</td>\n",
              "      <td>good</td>\n",
              "      <td>enough</td>\n",
              "      <td>enough</td>\n",
              "      <td>spring</td>\n",
              "      <td>spring</td>\n",
              "      <td>groundwater</td>\n",
              "      <td>communal standpipe</td>\n",
              "      <td>communal standpipe</td>\n",
              "    </tr>\n",
              "    <tr>\n",
              "      <th>8776</th>\n",
              "      <td>Lake Victoria</td>\n",
              "      <td>Mara</td>\n",
              "      <td>20</td>\n",
              "      <td>2</td>\n",
              "      <td>GeoData Consultants Ltd</td>\n",
              "      <td>gravity</td>\n",
              "      <td>gravity</td>\n",
              "      <td>gravity</td>\n",
              "      <td>wug</td>\n",
              "      <td>user-group</td>\n",
              "      <td>never pay</td>\n",
              "      <td>never pay</td>\n",
              "      <td>soft</td>\n",
              "      <td>good</td>\n",
              "      <td>insufficient</td>\n",
              "      <td>insufficient</td>\n",
              "      <td>rainwater harvesting</td>\n",
              "      <td>rainwater harvesting</td>\n",
              "      <td>surface</td>\n",
              "      <td>communal standpipe</td>\n",
              "      <td>communal standpipe</td>\n",
              "    </tr>\n",
              "    <tr>\n",
              "      <th>34310</th>\n",
              "      <td>Pangani</td>\n",
              "      <td>Manyara</td>\n",
              "      <td>21</td>\n",
              "      <td>4</td>\n",
              "      <td>GeoData Consultants Ltd</td>\n",
              "      <td>gravity</td>\n",
              "      <td>gravity</td>\n",
              "      <td>gravity</td>\n",
              "      <td>vwc</td>\n",
              "      <td>user-group</td>\n",
              "      <td>pay per bucket</td>\n",
              "      <td>per bucket</td>\n",
              "      <td>soft</td>\n",
              "      <td>good</td>\n",
              "      <td>enough</td>\n",
              "      <td>enough</td>\n",
              "      <td>dam</td>\n",
              "      <td>dam</td>\n",
              "      <td>surface</td>\n",
              "      <td>communal standpipe multiple</td>\n",
              "      <td>communal standpipe</td>\n",
              "    </tr>\n",
              "    <tr>\n",
              "      <th>67743</th>\n",
              "      <td>Ruvuma / Southern Coast</td>\n",
              "      <td>Mtwara</td>\n",
              "      <td>90</td>\n",
              "      <td>63</td>\n",
              "      <td>GeoData Consultants Ltd</td>\n",
              "      <td>submersible</td>\n",
              "      <td>submersible</td>\n",
              "      <td>submersible</td>\n",
              "      <td>vwc</td>\n",
              "      <td>user-group</td>\n",
              "      <td>never pay</td>\n",
              "      <td>never pay</td>\n",
              "      <td>soft</td>\n",
              "      <td>good</td>\n",
              "      <td>dry</td>\n",
              "      <td>dry</td>\n",
              "      <td>machine dbh</td>\n",
              "      <td>borehole</td>\n",
              "      <td>groundwater</td>\n",
              "      <td>communal standpipe multiple</td>\n",
              "      <td>communal standpipe</td>\n",
              "    </tr>\n",
              "    <tr>\n",
              "      <th>19728</th>\n",
              "      <td>Lake Victoria</td>\n",
              "      <td>Kagera</td>\n",
              "      <td>18</td>\n",
              "      <td>1</td>\n",
              "      <td>GeoData Consultants Ltd</td>\n",
              "      <td>gravity</td>\n",
              "      <td>gravity</td>\n",
              "      <td>gravity</td>\n",
              "      <td>other</td>\n",
              "      <td>other</td>\n",
              "      <td>never pay</td>\n",
              "      <td>never pay</td>\n",
              "      <td>soft</td>\n",
              "      <td>good</td>\n",
              "      <td>seasonal</td>\n",
              "      <td>seasonal</td>\n",
              "      <td>rainwater harvesting</td>\n",
              "      <td>rainwater harvesting</td>\n",
              "      <td>surface</td>\n",
              "      <td>communal standpipe</td>\n",
              "      <td>communal standpipe</td>\n",
              "    </tr>\n",
              "  </tbody>\n",
              "</table>\n",
              "</div>"
            ],
            "text/plain": [
              "                         basin   region  region_code  district_code  \\\n",
              "id                                                                    \n",
              "69572               Lake Nyasa   Iringa           11              5   \n",
              "8776             Lake Victoria     Mara           20              2   \n",
              "34310                  Pangani  Manyara           21              4   \n",
              "67743  Ruvuma / Southern Coast   Mtwara           90             63   \n",
              "19728            Lake Victoria   Kagera           18              1   \n",
              "\n",
              "                   recorded_by extraction_type extraction_type_group  \\\n",
              "id                                                                     \n",
              "69572  GeoData Consultants Ltd         gravity               gravity   \n",
              "8776   GeoData Consultants Ltd         gravity               gravity   \n",
              "34310  GeoData Consultants Ltd         gravity               gravity   \n",
              "67743  GeoData Consultants Ltd     submersible           submersible   \n",
              "19728  GeoData Consultants Ltd         gravity               gravity   \n",
              "\n",
              "      extraction_type_class management management_group         payment  \\\n",
              "id                                                                        \n",
              "69572               gravity        vwc       user-group    pay annually   \n",
              "8776                gravity        wug       user-group       never pay   \n",
              "34310               gravity        vwc       user-group  pay per bucket   \n",
              "67743           submersible        vwc       user-group       never pay   \n",
              "19728               gravity      other            other       never pay   \n",
              "\n",
              "      payment_type water_quality quality_group      quantity quantity_group  \\\n",
              "id                                                                            \n",
              "69572     annually          soft          good        enough         enough   \n",
              "8776     never pay          soft          good  insufficient   insufficient   \n",
              "34310   per bucket          soft          good        enough         enough   \n",
              "67743    never pay          soft          good           dry            dry   \n",
              "19728    never pay          soft          good      seasonal       seasonal   \n",
              "\n",
              "                     source           source_type source_class  \\\n",
              "id                                                               \n",
              "69572                spring                spring  groundwater   \n",
              "8776   rainwater harvesting  rainwater harvesting      surface   \n",
              "34310                   dam                   dam      surface   \n",
              "67743           machine dbh              borehole  groundwater   \n",
              "19728  rainwater harvesting  rainwater harvesting      surface   \n",
              "\n",
              "                   waterpoint_type waterpoint_type_group  \n",
              "id                                                        \n",
              "69572           communal standpipe    communal standpipe  \n",
              "8776            communal standpipe    communal standpipe  \n",
              "34310  communal standpipe multiple    communal standpipe  \n",
              "67743  communal standpipe multiple    communal standpipe  \n",
              "19728           communal standpipe    communal standpipe  "
            ]
          },
          "metadata": {
            "tags": []
          },
          "execution_count": 129
        }
      ]
    },
    {
      "metadata": {
        "id": "bRJ0XqsIaOBP",
        "colab_type": "code",
        "colab": {
          "base_uri": "https://localhost:8080/",
          "height": 255
        },
        "outputId": "06873448-e957-4c65-99f6-1a8be4d31c47"
      },
      "cell_type": "code",
      "source": [
        "cat_cols = list(X_selected.select_dtypes(['object']).columns.values)\n",
        "\n",
        "X_categorical = X_selected[cat_cols]. \\\n",
        "                  apply(lambda x: x.astype('category').cat.codes)\n",
        "X_categorical.head()\n"
      ],
      "execution_count": 130,
      "outputs": [
        {
          "output_type": "execute_result",
          "data": {
            "text/html": [
              "<div>\n",
              "<style scoped>\n",
              "    .dataframe tbody tr th:only-of-type {\n",
              "        vertical-align: middle;\n",
              "    }\n",
              "\n",
              "    .dataframe tbody tr th {\n",
              "        vertical-align: top;\n",
              "    }\n",
              "\n",
              "    .dataframe thead th {\n",
              "        text-align: right;\n",
              "    }\n",
              "</style>\n",
              "<table border=\"1\" class=\"dataframe\">\n",
              "  <thead>\n",
              "    <tr style=\"text-align: right;\">\n",
              "      <th></th>\n",
              "      <th>basin</th>\n",
              "      <th>region</th>\n",
              "      <th>recorded_by</th>\n",
              "      <th>extraction_type</th>\n",
              "      <th>extraction_type_group</th>\n",
              "      <th>extraction_type_class</th>\n",
              "      <th>management</th>\n",
              "      <th>management_group</th>\n",
              "      <th>payment</th>\n",
              "      <th>payment_type</th>\n",
              "      <th>water_quality</th>\n",
              "      <th>quality_group</th>\n",
              "      <th>quantity</th>\n",
              "      <th>quantity_group</th>\n",
              "      <th>source</th>\n",
              "      <th>source_type</th>\n",
              "      <th>source_class</th>\n",
              "      <th>waterpoint_type</th>\n",
              "      <th>waterpoint_type_group</th>\n",
              "    </tr>\n",
              "    <tr>\n",
              "      <th>id</th>\n",
              "      <th></th>\n",
              "      <th></th>\n",
              "      <th></th>\n",
              "      <th></th>\n",
              "      <th></th>\n",
              "      <th></th>\n",
              "      <th></th>\n",
              "      <th></th>\n",
              "      <th></th>\n",
              "      <th></th>\n",
              "      <th></th>\n",
              "      <th></th>\n",
              "      <th></th>\n",
              "      <th></th>\n",
              "      <th></th>\n",
              "      <th></th>\n",
              "      <th></th>\n",
              "      <th></th>\n",
              "      <th></th>\n",
              "    </tr>\n",
              "  </thead>\n",
              "  <tbody>\n",
              "    <tr>\n",
              "      <th>69572</th>\n",
              "      <td>1</td>\n",
              "      <td>3</td>\n",
              "      <td>0</td>\n",
              "      <td>3</td>\n",
              "      <td>1</td>\n",
              "      <td>0</td>\n",
              "      <td>7</td>\n",
              "      <td>4</td>\n",
              "      <td>2</td>\n",
              "      <td>0</td>\n",
              "      <td>6</td>\n",
              "      <td>2</td>\n",
              "      <td>1</td>\n",
              "      <td>1</td>\n",
              "      <td>8</td>\n",
              "      <td>6</td>\n",
              "      <td>0</td>\n",
              "      <td>1</td>\n",
              "      <td>1</td>\n",
              "    </tr>\n",
              "    <tr>\n",
              "      <th>8776</th>\n",
              "      <td>4</td>\n",
              "      <td>9</td>\n",
              "      <td>0</td>\n",
              "      <td>3</td>\n",
              "      <td>1</td>\n",
              "      <td>0</td>\n",
              "      <td>11</td>\n",
              "      <td>4</td>\n",
              "      <td>0</td>\n",
              "      <td>2</td>\n",
              "      <td>6</td>\n",
              "      <td>2</td>\n",
              "      <td>2</td>\n",
              "      <td>2</td>\n",
              "      <td>5</td>\n",
              "      <td>3</td>\n",
              "      <td>1</td>\n",
              "      <td>1</td>\n",
              "      <td>1</td>\n",
              "    </tr>\n",
              "    <tr>\n",
              "      <th>34310</th>\n",
              "      <td>5</td>\n",
              "      <td>8</td>\n",
              "      <td>0</td>\n",
              "      <td>3</td>\n",
              "      <td>1</td>\n",
              "      <td>0</td>\n",
              "      <td>7</td>\n",
              "      <td>4</td>\n",
              "      <td>4</td>\n",
              "      <td>5</td>\n",
              "      <td>6</td>\n",
              "      <td>2</td>\n",
              "      <td>1</td>\n",
              "      <td>1</td>\n",
              "      <td>0</td>\n",
              "      <td>1</td>\n",
              "      <td>1</td>\n",
              "      <td>2</td>\n",
              "      <td>1</td>\n",
              "    </tr>\n",
              "    <tr>\n",
              "      <th>67743</th>\n",
              "      <td>7</td>\n",
              "      <td>12</td>\n",
              "      <td>0</td>\n",
              "      <td>14</td>\n",
              "      <td>10</td>\n",
              "      <td>5</td>\n",
              "      <td>7</td>\n",
              "      <td>4</td>\n",
              "      <td>0</td>\n",
              "      <td>2</td>\n",
              "      <td>6</td>\n",
              "      <td>2</td>\n",
              "      <td>0</td>\n",
              "      <td>0</td>\n",
              "      <td>3</td>\n",
              "      <td>0</td>\n",
              "      <td>0</td>\n",
              "      <td>2</td>\n",
              "      <td>1</td>\n",
              "    </tr>\n",
              "    <tr>\n",
              "      <th>19728</th>\n",
              "      <td>4</td>\n",
              "      <td>4</td>\n",
              "      <td>0</td>\n",
              "      <td>3</td>\n",
              "      <td>1</td>\n",
              "      <td>0</td>\n",
              "      <td>1</td>\n",
              "      <td>1</td>\n",
              "      <td>0</td>\n",
              "      <td>2</td>\n",
              "      <td>6</td>\n",
              "      <td>2</td>\n",
              "      <td>3</td>\n",
              "      <td>3</td>\n",
              "      <td>5</td>\n",
              "      <td>3</td>\n",
              "      <td>1</td>\n",
              "      <td>1</td>\n",
              "      <td>1</td>\n",
              "    </tr>\n",
              "  </tbody>\n",
              "</table>\n",
              "</div>"
            ],
            "text/plain": [
              "       basin  region  recorded_by  extraction_type  extraction_type_group  \\\n",
              "id                                                                          \n",
              "69572      1       3            0                3                      1   \n",
              "8776       4       9            0                3                      1   \n",
              "34310      5       8            0                3                      1   \n",
              "67743      7      12            0               14                     10   \n",
              "19728      4       4            0                3                      1   \n",
              "\n",
              "       extraction_type_class  management  management_group  payment  \\\n",
              "id                                                                    \n",
              "69572                      0           7                 4        2   \n",
              "8776                       0          11                 4        0   \n",
              "34310                      0           7                 4        4   \n",
              "67743                      5           7                 4        0   \n",
              "19728                      0           1                 1        0   \n",
              "\n",
              "       payment_type  water_quality  quality_group  quantity  quantity_group  \\\n",
              "id                                                                            \n",
              "69572             0              6              2         1               1   \n",
              "8776              2              6              2         2               2   \n",
              "34310             5              6              2         1               1   \n",
              "67743             2              6              2         0               0   \n",
              "19728             2              6              2         3               3   \n",
              "\n",
              "       source  source_type  source_class  waterpoint_type  \\\n",
              "id                                                          \n",
              "69572       8            6             0                1   \n",
              "8776        5            3             1                1   \n",
              "34310       0            1             1                2   \n",
              "67743       3            0             0                2   \n",
              "19728       5            3             1                1   \n",
              "\n",
              "       waterpoint_type_group  \n",
              "id                            \n",
              "69572                      1  \n",
              "8776                       1  \n",
              "34310                      1  \n",
              "67743                      1  \n",
              "19728                      1  "
            ]
          },
          "metadata": {
            "tags": []
          },
          "execution_count": 130
        }
      ]
    },
    {
      "metadata": {
        "id": "aLgT-MI5aOBd",
        "colab_type": "code",
        "colab": {
          "base_uri": "https://localhost:8080/",
          "height": 34
        },
        "outputId": "3f0e1c0e-2e75-447a-eeab-06383f4be491"
      },
      "cell_type": "code",
      "source": [
        "X_train_selected = X_train_numerical.join(X_categorical)\n",
        "X_train_selected.shape"
      ],
      "execution_count": 131,
      "outputs": [
        {
          "output_type": "execute_result",
          "data": {
            "text/plain": [
              "(59400, 29)"
            ]
          },
          "metadata": {
            "tags": []
          },
          "execution_count": 131
        }
      ]
    },
    {
      "metadata": {
        "id": "MRfBh7fTcR6Y",
        "colab_type": "code",
        "colab": {
          "base_uri": "https://localhost:8080/",
          "height": 68
        },
        "outputId": "34520de3-7a1f-4644-b283-1b238ada4074"
      },
      "cell_type": "code",
      "source": [
        "clf = DecisionTreeClassifier()\n",
        "cv_score = cross_val_score(clf, \n",
        "                            X_train_selected, y_train_original,\n",
        "                            scoring = 'accuracy',\n",
        "                            cv = 3,\n",
        "                            n_jobs = -1,\n",
        "                            verbose = 1)\n",
        "cv_score"
      ],
      "execution_count": 132,
      "outputs": [
        {
          "output_type": "stream",
          "text": [
            "[Parallel(n_jobs=-1)]: Using backend LokyBackend with 2 concurrent workers.\n",
            "[Parallel(n_jobs=-1)]: Done   3 out of   3 | elapsed:    1.9s finished\n"
          ],
          "name": "stderr"
        },
        {
          "output_type": "execute_result",
          "data": {
            "text/plain": [
              "array([0.75565657, 0.74974747, 0.74722222])"
            ]
          },
          "metadata": {
            "tags": []
          },
          "execution_count": 132
        }
      ]
    },
    {
      "metadata": {
        "id": "NTIxDBlub2AA",
        "colab_type": "text"
      },
      "cell_type": "markdown",
      "source": [
        "### Gives us a score of 0.75"
      ]
    },
    {
      "metadata": {
        "id": "Rt1MxtyWocL2",
        "colab_type": "text"
      },
      "cell_type": "markdown",
      "source": [
        "### Let's apply the classifier to the test data"
      ]
    },
    {
      "metadata": {
        "id": "wqCLzIV4n7-U",
        "colab_type": "code",
        "colab": {}
      },
      "cell_type": "code",
      "source": [
        "clf.fit(X_train_selected, y_train_original)\n",
        "\n",
        "X_test_non_nulls = X_test_original.dropna(axis = 1)\n",
        "X_test_selected = X_test_non_nulls.loc[:, X_test_non_nulls.nunique().sort_values() < 50]\n",
        "\n",
        "cat_cols = list(X_test_selected.select_dtypes(['object']).columns.values)\n",
        "X_test_categorical = X_test_selected[cat_cols]. \\\n",
        "                        apply(lambda x: x.astype('category').cat.codes)\n",
        "\n",
        "X_test_selected = X_test_numerical.join(X_test_categorical)"
      ],
      "execution_count": 0,
      "outputs": []
    },
    {
      "metadata": {
        "colab_type": "code",
        "outputId": "38b6c98b-818b-460e-c3f3-19dbe19ac320",
        "id": "e5JdQUAvnOpZ",
        "colab": {
          "base_uri": "https://localhost:8080/",
          "height": 204
        }
      },
      "cell_type": "code",
      "source": [
        "y_pred = clf.predict(X_test_selected)\n",
        "y_pred = pd.DataFrame(data = y_pred, \n",
        "                      index = X_test_selected.index.values,\n",
        "                      columns = ['status_group'])\n",
        "y_pred.head()"
      ],
      "execution_count": 134,
      "outputs": [
        {
          "output_type": "execute_result",
          "data": {
            "text/html": [
              "<div>\n",
              "<style scoped>\n",
              "    .dataframe tbody tr th:only-of-type {\n",
              "        vertical-align: middle;\n",
              "    }\n",
              "\n",
              "    .dataframe tbody tr th {\n",
              "        vertical-align: top;\n",
              "    }\n",
              "\n",
              "    .dataframe thead th {\n",
              "        text-align: right;\n",
              "    }\n",
              "</style>\n",
              "<table border=\"1\" class=\"dataframe\">\n",
              "  <thead>\n",
              "    <tr style=\"text-align: right;\">\n",
              "      <th></th>\n",
              "      <th>status_group</th>\n",
              "    </tr>\n",
              "  </thead>\n",
              "  <tbody>\n",
              "    <tr>\n",
              "      <th>50785</th>\n",
              "      <td>non functional</td>\n",
              "    </tr>\n",
              "    <tr>\n",
              "      <th>51630</th>\n",
              "      <td>functional</td>\n",
              "    </tr>\n",
              "    <tr>\n",
              "      <th>17168</th>\n",
              "      <td>functional needs repair</td>\n",
              "    </tr>\n",
              "    <tr>\n",
              "      <th>45559</th>\n",
              "      <td>non functional</td>\n",
              "    </tr>\n",
              "    <tr>\n",
              "      <th>49871</th>\n",
              "      <td>functional</td>\n",
              "    </tr>\n",
              "  </tbody>\n",
              "</table>\n",
              "</div>"
            ],
            "text/plain": [
              "                  status_group\n",
              "50785           non functional\n",
              "51630               functional\n",
              "17168  functional needs repair\n",
              "45559           non functional\n",
              "49871               functional"
            ]
          },
          "metadata": {
            "tags": []
          },
          "execution_count": 134
        }
      ]
    },
    {
      "metadata": {
        "id": "86OLJTpncR13",
        "colab_type": "code",
        "colab": {}
      },
      "cell_type": "code",
      "source": [
        "y_pred.to_csv('./decision_tree_pred_with_categorical.csv', \n",
        "          header = ['status_group'],\n",
        "          index = True,\n",
        "             index_label = 'id')"
      ],
      "execution_count": 0,
      "outputs": []
    },
    {
      "metadata": {
        "id": "-cAR7Ps6ptV6",
        "colab_type": "text"
      },
      "cell_type": "markdown",
      "source": [
        "## Since our Decision Tree gave us a good result, let's try Random Forest classifier.\n",
        "### Random Forest classifiers are good for multinomial targets. This classifier takes random samples from the training dataset, so there is no need to do cross validation on it.  We may do GridSearchCV to try different n_estimators and max_depth (if our score is not very good)."
      ]
    },
    {
      "metadata": {
        "id": "-3qxCtGruhCs",
        "colab_type": "code",
        "colab": {}
      },
      "cell_type": "code",
      "source": [
        "X_train, X_test, y_train, y_test = train_test_split(\n",
        "    X_train_selected, y_train_original, test_size=0.2)"
      ],
      "execution_count": 0,
      "outputs": []
    },
    {
      "metadata": {
        "id": "OXTCOaWScRzb",
        "colab_type": "code",
        "colab": {
          "base_uri": "https://localhost:8080/",
          "height": 122
        },
        "outputId": "f505e0e6-5226-426c-ab94-d713c73859d3"
      },
      "cell_type": "code",
      "source": [
        "clf = RandomForestClassifier()\n",
        "clf.fit(X_train, y_train)\n",
        "clf.score(X_test, y_test)"
      ],
      "execution_count": 137,
      "outputs": [
        {
          "output_type": "stream",
          "text": [
            "/usr/local/lib/python3.6/dist-packages/sklearn/ensemble/forest.py:246: FutureWarning: The default value of n_estimators will change from 10 in version 0.20 to 100 in 0.22.\n",
            "  \"10 in version 0.20 to 100 in 0.22.\", FutureWarning)\n",
            "/usr/local/lib/python3.6/dist-packages/ipykernel_launcher.py:2: DataConversionWarning: A column-vector y was passed when a 1d array was expected. Please change the shape of y to (n_samples,), for example using ravel().\n",
            "  \n"
          ],
          "name": "stderr"
        },
        {
          "output_type": "execute_result",
          "data": {
            "text/plain": [
              "0.798989898989899"
            ]
          },
          "metadata": {
            "tags": []
          },
          "execution_count": 137
        }
      ]
    },
    {
      "metadata": {
        "id": "AGcp1MDM4NG4",
        "colab_type": "text"
      },
      "cell_type": "markdown",
      "source": [
        "### Gives us a score of 0.79. Better, but not by much"
      ]
    },
    {
      "metadata": {
        "id": "n-_G6hsN38h9",
        "colab_type": "text"
      },
      "cell_type": "markdown",
      "source": [
        "## Let's try RandomForest with Grid Search"
      ]
    },
    {
      "metadata": {
        "id": "odef0ob5cRxL",
        "colab_type": "code",
        "colab": {
          "base_uri": "https://localhost:8080/",
          "height": 2927
        },
        "outputId": "d3aa5a06-3e2e-4d7b-9a7d-4f02ef58b66c"
      },
      "cell_type": "code",
      "source": [
        "# If you're having problems getting the right keys\n",
        "# in the param_grid structure, this function will\n",
        "# return the list of keys that go in there:\n",
        "#\n",
        "# RandomForestClassifier().get_params().keys()\n",
        "\n",
        "param_grid = {\n",
        "    'n_estimators': [10, 20, 30],\n",
        "    'max_depth': [6, 10, 20, 30]\n",
        "}\n",
        "\n",
        "gridsearch = GridSearchCV(RandomForestClassifier(n_jobs = -1), \n",
        "                          param_grid=param_grid, \n",
        "                          scoring='accuracy', cv=3, \n",
        "                          return_train_score=True, verbose=10)\n",
        "\n",
        "gridsearch.fit(X_train, y_train)"
      ],
      "execution_count": 138,
      "outputs": [
        {
          "output_type": "stream",
          "text": [
            "Fitting 3 folds for each of 12 candidates, totalling 36 fits\n",
            "[CV] max_depth=6, n_estimators=10 ....................................\n"
          ],
          "name": "stdout"
        },
        {
          "output_type": "stream",
          "text": [
            "[Parallel(n_jobs=1)]: Using backend SequentialBackend with 1 concurrent workers.\n",
            "/usr/local/lib/python3.6/dist-packages/sklearn/model_selection/_validation.py:528: DataConversionWarning: A column-vector y was passed when a 1d array was expected. Please change the shape of y to (n_samples,), for example using ravel().\n",
            "  estimator.fit(X_train, y_train, **fit_params)\n"
          ],
          "name": "stderr"
        },
        {
          "output_type": "stream",
          "text": [
            "[CV]  max_depth=6, n_estimators=10, score=0.7195075757575757, total=   0.5s\n",
            "[CV] max_depth=6, n_estimators=10 ....................................\n"
          ],
          "name": "stdout"
        },
        {
          "output_type": "stream",
          "text": [
            "[Parallel(n_jobs=1)]: Done   1 out of   1 | elapsed:    0.6s remaining:    0.0s\n",
            "/usr/local/lib/python3.6/dist-packages/sklearn/model_selection/_validation.py:528: DataConversionWarning: A column-vector y was passed when a 1d array was expected. Please change the shape of y to (n_samples,), for example using ravel().\n",
            "  estimator.fit(X_train, y_train, **fit_params)\n"
          ],
          "name": "stderr"
        },
        {
          "output_type": "stream",
          "text": [
            "[CV]  max_depth=6, n_estimators=10, score=0.720770202020202, total=   0.4s\n",
            "[CV] max_depth=6, n_estimators=10 ....................................\n"
          ],
          "name": "stdout"
        },
        {
          "output_type": "stream",
          "text": [
            "[Parallel(n_jobs=1)]: Done   2 out of   2 | elapsed:    1.2s remaining:    0.0s\n",
            "/usr/local/lib/python3.6/dist-packages/sklearn/model_selection/_validation.py:528: DataConversionWarning: A column-vector y was passed when a 1d array was expected. Please change the shape of y to (n_samples,), for example using ravel().\n",
            "  estimator.fit(X_train, y_train, **fit_params)\n"
          ],
          "name": "stderr"
        },
        {
          "output_type": "stream",
          "text": [
            "[CV]  max_depth=6, n_estimators=10, score=0.7200757575757576, total=   0.4s\n",
            "[CV] max_depth=6, n_estimators=20 ....................................\n"
          ],
          "name": "stdout"
        },
        {
          "output_type": "stream",
          "text": [
            "[Parallel(n_jobs=1)]: Done   3 out of   3 | elapsed:    1.8s remaining:    0.0s\n",
            "/usr/local/lib/python3.6/dist-packages/sklearn/model_selection/_validation.py:528: DataConversionWarning: A column-vector y was passed when a 1d array was expected. Please change the shape of y to (n_samples,), for example using ravel().\n",
            "  estimator.fit(X_train, y_train, **fit_params)\n"
          ],
          "name": "stderr"
        },
        {
          "output_type": "stream",
          "text": [
            "[CV]  max_depth=6, n_estimators=20, score=0.7220328282828283, total=   0.6s\n",
            "[CV] max_depth=6, n_estimators=20 ....................................\n"
          ],
          "name": "stdout"
        },
        {
          "output_type": "stream",
          "text": [
            "[Parallel(n_jobs=1)]: Done   4 out of   4 | elapsed:    2.5s remaining:    0.0s\n",
            "/usr/local/lib/python3.6/dist-packages/sklearn/model_selection/_validation.py:528: DataConversionWarning: A column-vector y was passed when a 1d array was expected. Please change the shape of y to (n_samples,), for example using ravel().\n",
            "  estimator.fit(X_train, y_train, **fit_params)\n"
          ],
          "name": "stderr"
        },
        {
          "output_type": "stream",
          "text": [
            "[CV]  max_depth=6, n_estimators=20, score=0.7200757575757576, total=   0.6s\n",
            "[CV] max_depth=6, n_estimators=20 ....................................\n"
          ],
          "name": "stdout"
        },
        {
          "output_type": "stream",
          "text": [
            "[Parallel(n_jobs=1)]: Done   5 out of   5 | elapsed:    3.2s remaining:    0.0s\n",
            "/usr/local/lib/python3.6/dist-packages/sklearn/model_selection/_validation.py:528: DataConversionWarning: A column-vector y was passed when a 1d array was expected. Please change the shape of y to (n_samples,), for example using ravel().\n",
            "  estimator.fit(X_train, y_train, **fit_params)\n"
          ],
          "name": "stderr"
        },
        {
          "output_type": "stream",
          "text": [
            "[CV]  max_depth=6, n_estimators=20, score=0.7181186868686869, total=   0.6s\n",
            "[CV] max_depth=6, n_estimators=30 ....................................\n"
          ],
          "name": "stdout"
        },
        {
          "output_type": "stream",
          "text": [
            "[Parallel(n_jobs=1)]: Done   6 out of   6 | elapsed:    4.0s remaining:    0.0s\n",
            "/usr/local/lib/python3.6/dist-packages/sklearn/model_selection/_validation.py:528: DataConversionWarning: A column-vector y was passed when a 1d array was expected. Please change the shape of y to (n_samples,), for example using ravel().\n",
            "  estimator.fit(X_train, y_train, **fit_params)\n"
          ],
          "name": "stderr"
        },
        {
          "output_type": "stream",
          "text": [
            "[CV]  max_depth=6, n_estimators=30, score=0.7226641414141414, total=   0.8s\n",
            "[CV] max_depth=6, n_estimators=30 ....................................\n"
          ],
          "name": "stdout"
        },
        {
          "output_type": "stream",
          "text": [
            "[Parallel(n_jobs=1)]: Done   7 out of   7 | elapsed:    4.9s remaining:    0.0s\n",
            "/usr/local/lib/python3.6/dist-packages/sklearn/model_selection/_validation.py:528: DataConversionWarning: A column-vector y was passed when a 1d array was expected. Please change the shape of y to (n_samples,), for example using ravel().\n",
            "  estimator.fit(X_train, y_train, **fit_params)\n"
          ],
          "name": "stderr"
        },
        {
          "output_type": "stream",
          "text": [
            "[CV]  max_depth=6, n_estimators=30, score=0.722979797979798, total=   0.8s\n",
            "[CV] max_depth=6, n_estimators=30 ....................................\n"
          ],
          "name": "stdout"
        },
        {
          "output_type": "stream",
          "text": [
            "[Parallel(n_jobs=1)]: Done   8 out of   8 | elapsed:    5.9s remaining:    0.0s\n",
            "/usr/local/lib/python3.6/dist-packages/sklearn/model_selection/_validation.py:528: DataConversionWarning: A column-vector y was passed when a 1d array was expected. Please change the shape of y to (n_samples,), for example using ravel().\n",
            "  estimator.fit(X_train, y_train, **fit_params)\n"
          ],
          "name": "stderr"
        },
        {
          "output_type": "stream",
          "text": [
            "[CV]  max_depth=6, n_estimators=30, score=0.7198863636363636, total=   0.9s\n",
            "[CV] max_depth=10, n_estimators=10 ...................................\n"
          ],
          "name": "stdout"
        },
        {
          "output_type": "stream",
          "text": [
            "[Parallel(n_jobs=1)]: Done   9 out of   9 | elapsed:    6.9s remaining:    0.0s\n",
            "/usr/local/lib/python3.6/dist-packages/sklearn/model_selection/_validation.py:528: DataConversionWarning: A column-vector y was passed when a 1d array was expected. Please change the shape of y to (n_samples,), for example using ravel().\n",
            "  estimator.fit(X_train, y_train, **fit_params)\n"
          ],
          "name": "stderr"
        },
        {
          "output_type": "stream",
          "text": [
            "[CV]  max_depth=10, n_estimators=10, score=0.7522727272727273, total=   0.5s\n",
            "[CV] max_depth=10, n_estimators=10 ...................................\n"
          ],
          "name": "stdout"
        },
        {
          "output_type": "stream",
          "text": [
            "/usr/local/lib/python3.6/dist-packages/sklearn/model_selection/_validation.py:528: DataConversionWarning: A column-vector y was passed when a 1d array was expected. Please change the shape of y to (n_samples,), for example using ravel().\n",
            "  estimator.fit(X_train, y_train, **fit_params)\n"
          ],
          "name": "stderr"
        },
        {
          "output_type": "stream",
          "text": [
            "[CV]  max_depth=10, n_estimators=10, score=0.7558712121212121, total=   0.6s\n",
            "[CV] max_depth=10, n_estimators=10 ...................................\n"
          ],
          "name": "stdout"
        },
        {
          "output_type": "stream",
          "text": [
            "/usr/local/lib/python3.6/dist-packages/sklearn/model_selection/_validation.py:528: DataConversionWarning: A column-vector y was passed when a 1d array was expected. Please change the shape of y to (n_samples,), for example using ravel().\n",
            "  estimator.fit(X_train, y_train, **fit_params)\n"
          ],
          "name": "stderr"
        },
        {
          "output_type": "stream",
          "text": [
            "[CV]  max_depth=10, n_estimators=10, score=0.751830808080808, total=   0.6s\n",
            "[CV] max_depth=10, n_estimators=20 ...................................\n"
          ],
          "name": "stdout"
        },
        {
          "output_type": "stream",
          "text": [
            "/usr/local/lib/python3.6/dist-packages/sklearn/model_selection/_validation.py:528: DataConversionWarning: A column-vector y was passed when a 1d array was expected. Please change the shape of y to (n_samples,), for example using ravel().\n",
            "  estimator.fit(X_train, y_train, **fit_params)\n"
          ],
          "name": "stderr"
        },
        {
          "output_type": "stream",
          "text": [
            "[CV]  max_depth=10, n_estimators=20, score=0.7514520202020202, total=   0.8s\n",
            "[CV] max_depth=10, n_estimators=20 ...................................\n"
          ],
          "name": "stdout"
        },
        {
          "output_type": "stream",
          "text": [
            "/usr/local/lib/python3.6/dist-packages/sklearn/model_selection/_validation.py:528: DataConversionWarning: A column-vector y was passed when a 1d array was expected. Please change the shape of y to (n_samples,), for example using ravel().\n",
            "  estimator.fit(X_train, y_train, **fit_params)\n"
          ],
          "name": "stderr"
        },
        {
          "output_type": "stream",
          "text": [
            "[CV]  max_depth=10, n_estimators=20, score=0.7577020202020202, total=   0.8s\n",
            "[CV] max_depth=10, n_estimators=20 ...................................\n"
          ],
          "name": "stdout"
        },
        {
          "output_type": "stream",
          "text": [
            "/usr/local/lib/python3.6/dist-packages/sklearn/model_selection/_validation.py:528: DataConversionWarning: A column-vector y was passed when a 1d array was expected. Please change the shape of y to (n_samples,), for example using ravel().\n",
            "  estimator.fit(X_train, y_train, **fit_params)\n"
          ],
          "name": "stderr"
        },
        {
          "output_type": "stream",
          "text": [
            "[CV]  max_depth=10, n_estimators=20, score=0.748989898989899, total=   0.8s\n",
            "[CV] max_depth=10, n_estimators=30 ...................................\n"
          ],
          "name": "stdout"
        },
        {
          "output_type": "stream",
          "text": [
            "/usr/local/lib/python3.6/dist-packages/sklearn/model_selection/_validation.py:528: DataConversionWarning: A column-vector y was passed when a 1d array was expected. Please change the shape of y to (n_samples,), for example using ravel().\n",
            "  estimator.fit(X_train, y_train, **fit_params)\n"
          ],
          "name": "stderr"
        },
        {
          "output_type": "stream",
          "text": [
            "[CV]  max_depth=10, n_estimators=30, score=0.7506944444444444, total=   1.1s\n",
            "[CV] max_depth=10, n_estimators=30 ...................................\n"
          ],
          "name": "stdout"
        },
        {
          "output_type": "stream",
          "text": [
            "/usr/local/lib/python3.6/dist-packages/sklearn/model_selection/_validation.py:528: DataConversionWarning: A column-vector y was passed when a 1d array was expected. Please change the shape of y to (n_samples,), for example using ravel().\n",
            "  estimator.fit(X_train, y_train, **fit_params)\n"
          ],
          "name": "stderr"
        },
        {
          "output_type": "stream",
          "text": [
            "[CV]  max_depth=10, n_estimators=30, score=0.7543560606060606, total=   1.1s\n",
            "[CV] max_depth=10, n_estimators=30 ...................................\n"
          ],
          "name": "stdout"
        },
        {
          "output_type": "stream",
          "text": [
            "/usr/local/lib/python3.6/dist-packages/sklearn/model_selection/_validation.py:528: DataConversionWarning: A column-vector y was passed when a 1d array was expected. Please change the shape of y to (n_samples,), for example using ravel().\n",
            "  estimator.fit(X_train, y_train, **fit_params)\n"
          ],
          "name": "stderr"
        },
        {
          "output_type": "stream",
          "text": [
            "[CV]  max_depth=10, n_estimators=30, score=0.7477904040404041, total=   1.1s\n",
            "[CV] max_depth=20, n_estimators=10 ...................................\n"
          ],
          "name": "stdout"
        },
        {
          "output_type": "stream",
          "text": [
            "/usr/local/lib/python3.6/dist-packages/sklearn/model_selection/_validation.py:528: DataConversionWarning: A column-vector y was passed when a 1d array was expected. Please change the shape of y to (n_samples,), for example using ravel().\n",
            "  estimator.fit(X_train, y_train, **fit_params)\n"
          ],
          "name": "stderr"
        },
        {
          "output_type": "stream",
          "text": [
            "[CV]  max_depth=20, n_estimators=10, score=0.7869318181818182, total=   0.7s\n",
            "[CV] max_depth=20, n_estimators=10 ...................................\n"
          ],
          "name": "stdout"
        },
        {
          "output_type": "stream",
          "text": [
            "/usr/local/lib/python3.6/dist-packages/sklearn/model_selection/_validation.py:528: DataConversionWarning: A column-vector y was passed when a 1d array was expected. Please change the shape of y to (n_samples,), for example using ravel().\n",
            "  estimator.fit(X_train, y_train, **fit_params)\n"
          ],
          "name": "stderr"
        },
        {
          "output_type": "stream",
          "text": [
            "[CV]  max_depth=20, n_estimators=10, score=0.7919191919191919, total=   0.7s\n",
            "[CV] max_depth=20, n_estimators=10 ...................................\n"
          ],
          "name": "stdout"
        },
        {
          "output_type": "stream",
          "text": [
            "/usr/local/lib/python3.6/dist-packages/sklearn/model_selection/_validation.py:528: DataConversionWarning: A column-vector y was passed when a 1d array was expected. Please change the shape of y to (n_samples,), for example using ravel().\n",
            "  estimator.fit(X_train, y_train, **fit_params)\n"
          ],
          "name": "stderr"
        },
        {
          "output_type": "stream",
          "text": [
            "[CV]  max_depth=20, n_estimators=10, score=0.7873737373737374, total=   0.7s\n",
            "[CV] max_depth=20, n_estimators=20 ...................................\n"
          ],
          "name": "stdout"
        },
        {
          "output_type": "stream",
          "text": [
            "/usr/local/lib/python3.6/dist-packages/sklearn/model_selection/_validation.py:528: DataConversionWarning: A column-vector y was passed when a 1d array was expected. Please change the shape of y to (n_samples,), for example using ravel().\n",
            "  estimator.fit(X_train, y_train, **fit_params)\n"
          ],
          "name": "stderr"
        },
        {
          "output_type": "stream",
          "text": [
            "[CV]  max_depth=20, n_estimators=20, score=0.7964015151515151, total=   1.1s\n",
            "[CV] max_depth=20, n_estimators=20 ...................................\n"
          ],
          "name": "stdout"
        },
        {
          "output_type": "stream",
          "text": [
            "/usr/local/lib/python3.6/dist-packages/sklearn/model_selection/_validation.py:528: DataConversionWarning: A column-vector y was passed when a 1d array was expected. Please change the shape of y to (n_samples,), for example using ravel().\n",
            "  estimator.fit(X_train, y_train, **fit_params)\n"
          ],
          "name": "stderr"
        },
        {
          "output_type": "stream",
          "text": [
            "[CV]  max_depth=20, n_estimators=20, score=0.7940025252525252, total=   1.2s\n",
            "[CV] max_depth=20, n_estimators=20 ...................................\n"
          ],
          "name": "stdout"
        },
        {
          "output_type": "stream",
          "text": [
            "/usr/local/lib/python3.6/dist-packages/sklearn/model_selection/_validation.py:528: DataConversionWarning: A column-vector y was passed when a 1d array was expected. Please change the shape of y to (n_samples,), for example using ravel().\n",
            "  estimator.fit(X_train, y_train, **fit_params)\n"
          ],
          "name": "stderr"
        },
        {
          "output_type": "stream",
          "text": [
            "[CV]  max_depth=20, n_estimators=20, score=0.7941287878787879, total=   1.2s\n",
            "[CV] max_depth=20, n_estimators=30 ...................................\n"
          ],
          "name": "stdout"
        },
        {
          "output_type": "stream",
          "text": [
            "/usr/local/lib/python3.6/dist-packages/sklearn/model_selection/_validation.py:528: DataConversionWarning: A column-vector y was passed when a 1d array was expected. Please change the shape of y to (n_samples,), for example using ravel().\n",
            "  estimator.fit(X_train, y_train, **fit_params)\n"
          ],
          "name": "stderr"
        },
        {
          "output_type": "stream",
          "text": [
            "[CV]  max_depth=20, n_estimators=30, score=0.8021464646464647, total=   1.7s\n",
            "[CV] max_depth=20, n_estimators=30 ...................................\n"
          ],
          "name": "stdout"
        },
        {
          "output_type": "stream",
          "text": [
            "/usr/local/lib/python3.6/dist-packages/sklearn/model_selection/_validation.py:528: DataConversionWarning: A column-vector y was passed when a 1d array was expected. Please change the shape of y to (n_samples,), for example using ravel().\n",
            "  estimator.fit(X_train, y_train, **fit_params)\n"
          ],
          "name": "stderr"
        },
        {
          "output_type": "stream",
          "text": [
            "[CV]  max_depth=20, n_estimators=30, score=0.7983585858585859, total=   1.7s\n",
            "[CV] max_depth=20, n_estimators=30 ...................................\n"
          ],
          "name": "stdout"
        },
        {
          "output_type": "stream",
          "text": [
            "/usr/local/lib/python3.6/dist-packages/sklearn/model_selection/_validation.py:528: DataConversionWarning: A column-vector y was passed when a 1d array was expected. Please change the shape of y to (n_samples,), for example using ravel().\n",
            "  estimator.fit(X_train, y_train, **fit_params)\n"
          ],
          "name": "stderr"
        },
        {
          "output_type": "stream",
          "text": [
            "[CV]  max_depth=20, n_estimators=30, score=0.7964646464646464, total=   1.7s\n",
            "[CV] max_depth=30, n_estimators=10 ...................................\n"
          ],
          "name": "stdout"
        },
        {
          "output_type": "stream",
          "text": [
            "/usr/local/lib/python3.6/dist-packages/sklearn/model_selection/_validation.py:528: DataConversionWarning: A column-vector y was passed when a 1d array was expected. Please change the shape of y to (n_samples,), for example using ravel().\n",
            "  estimator.fit(X_train, y_train, **fit_params)\n"
          ],
          "name": "stderr"
        },
        {
          "output_type": "stream",
          "text": [
            "[CV]  max_depth=30, n_estimators=10, score=0.7893308080808081, total=   0.8s\n",
            "[CV] max_depth=30, n_estimators=10 ...................................\n"
          ],
          "name": "stdout"
        },
        {
          "output_type": "stream",
          "text": [
            "/usr/local/lib/python3.6/dist-packages/sklearn/model_selection/_validation.py:528: DataConversionWarning: A column-vector y was passed when a 1d array was expected. Please change the shape of y to (n_samples,), for example using ravel().\n",
            "  estimator.fit(X_train, y_train, **fit_params)\n"
          ],
          "name": "stderr"
        },
        {
          "output_type": "stream",
          "text": [
            "[CV]  max_depth=30, n_estimators=10, score=0.7883207070707071, total=   0.8s\n",
            "[CV] max_depth=30, n_estimators=10 ...................................\n"
          ],
          "name": "stdout"
        },
        {
          "output_type": "stream",
          "text": [
            "/usr/local/lib/python3.6/dist-packages/sklearn/model_selection/_validation.py:528: DataConversionWarning: A column-vector y was passed when a 1d array was expected. Please change the shape of y to (n_samples,), for example using ravel().\n",
            "  estimator.fit(X_train, y_train, **fit_params)\n"
          ],
          "name": "stderr"
        },
        {
          "output_type": "stream",
          "text": [
            "[CV]  max_depth=30, n_estimators=10, score=0.7871212121212121, total=   0.8s\n",
            "[CV] max_depth=30, n_estimators=20 ...................................\n"
          ],
          "name": "stdout"
        },
        {
          "output_type": "stream",
          "text": [
            "/usr/local/lib/python3.6/dist-packages/sklearn/model_selection/_validation.py:528: DataConversionWarning: A column-vector y was passed when a 1d array was expected. Please change the shape of y to (n_samples,), for example using ravel().\n",
            "  estimator.fit(X_train, y_train, **fit_params)\n"
          ],
          "name": "stderr"
        },
        {
          "output_type": "stream",
          "text": [
            "[CV]  max_depth=30, n_estimators=20, score=0.7958964646464647, total=   1.2s\n",
            "[CV] max_depth=30, n_estimators=20 ...................................\n"
          ],
          "name": "stdout"
        },
        {
          "output_type": "stream",
          "text": [
            "/usr/local/lib/python3.6/dist-packages/sklearn/model_selection/_validation.py:528: DataConversionWarning: A column-vector y was passed when a 1d array was expected. Please change the shape of y to (n_samples,), for example using ravel().\n",
            "  estimator.fit(X_train, y_train, **fit_params)\n"
          ],
          "name": "stderr"
        },
        {
          "output_type": "stream",
          "text": [
            "[CV]  max_depth=30, n_estimators=20, score=0.7931186868686869, total=   1.3s\n",
            "[CV] max_depth=30, n_estimators=20 ...................................\n"
          ],
          "name": "stdout"
        },
        {
          "output_type": "stream",
          "text": [
            "/usr/local/lib/python3.6/dist-packages/sklearn/model_selection/_validation.py:528: DataConversionWarning: A column-vector y was passed when a 1d array was expected. Please change the shape of y to (n_samples,), for example using ravel().\n",
            "  estimator.fit(X_train, y_train, **fit_params)\n"
          ],
          "name": "stderr"
        },
        {
          "output_type": "stream",
          "text": [
            "[CV]  max_depth=30, n_estimators=20, score=0.7927398989898989, total=   1.2s\n",
            "[CV] max_depth=30, n_estimators=30 ...................................\n"
          ],
          "name": "stdout"
        },
        {
          "output_type": "stream",
          "text": [
            "/usr/local/lib/python3.6/dist-packages/sklearn/model_selection/_validation.py:528: DataConversionWarning: A column-vector y was passed when a 1d array was expected. Please change the shape of y to (n_samples,), for example using ravel().\n",
            "  estimator.fit(X_train, y_train, **fit_params)\n"
          ],
          "name": "stderr"
        },
        {
          "output_type": "stream",
          "text": [
            "[CV]  max_depth=30, n_estimators=30, score=0.7955176767676768, total=   1.8s\n",
            "[CV] max_depth=30, n_estimators=30 ...................................\n"
          ],
          "name": "stdout"
        },
        {
          "output_type": "stream",
          "text": [
            "/usr/local/lib/python3.6/dist-packages/sklearn/model_selection/_validation.py:528: DataConversionWarning: A column-vector y was passed when a 1d array was expected. Please change the shape of y to (n_samples,), for example using ravel().\n",
            "  estimator.fit(X_train, y_train, **fit_params)\n"
          ],
          "name": "stderr"
        },
        {
          "output_type": "stream",
          "text": [
            "[CV]  max_depth=30, n_estimators=30, score=0.7944444444444444, total=   1.9s\n",
            "[CV] max_depth=30, n_estimators=30 ...................................\n"
          ],
          "name": "stdout"
        },
        {
          "output_type": "stream",
          "text": [
            "/usr/local/lib/python3.6/dist-packages/sklearn/model_selection/_validation.py:528: DataConversionWarning: A column-vector y was passed when a 1d array was expected. Please change the shape of y to (n_samples,), for example using ravel().\n",
            "  estimator.fit(X_train, y_train, **fit_params)\n"
          ],
          "name": "stderr"
        },
        {
          "output_type": "stream",
          "text": [
            "[CV]  max_depth=30, n_estimators=30, score=0.7921717171717172, total=   2.1s\n"
          ],
          "name": "stdout"
        },
        {
          "output_type": "stream",
          "text": [
            "[Parallel(n_jobs=1)]: Done  36 out of  36 | elapsed:   41.7s finished\n",
            "/usr/local/lib/python3.6/dist-packages/sklearn/model_selection/_search.py:740: DataConversionWarning: A column-vector y was passed when a 1d array was expected. Please change the shape of y to (n_samples,), for example using ravel().\n",
            "  self.best_estimator_.fit(X, y, **fit_params)\n"
          ],
          "name": "stderr"
        },
        {
          "output_type": "execute_result",
          "data": {
            "text/plain": [
              "GridSearchCV(cv=3, error_score='raise-deprecating',\n",
              "       estimator=RandomForestClassifier(bootstrap=True, class_weight=None, criterion='gini',\n",
              "            max_depth=None, max_features='auto', max_leaf_nodes=None,\n",
              "            min_impurity_decrease=0.0, min_impurity_split=None,\n",
              "            min_samples_leaf=1, min_samples_split=2,\n",
              "            min_weight_fraction_leaf=0.0, n_estimators='warn', n_jobs=-1,\n",
              "            oob_score=False, random_state=None, verbose=0,\n",
              "            warm_start=False),\n",
              "       fit_params=None, iid='warn', n_jobs=None,\n",
              "       param_grid={'n_estimators': [10, 20, 30], 'max_depth': [6, 10, 20, 30]},\n",
              "       pre_dispatch='2*n_jobs', refit=True, return_train_score=True,\n",
              "       scoring='accuracy', verbose=10)"
            ]
          },
          "metadata": {
            "tags": []
          },
          "execution_count": 138
        }
      ]
    },
    {
      "metadata": {
        "id": "legIFF44cRux",
        "colab_type": "code",
        "colab": {
          "base_uri": "https://localhost:8080/",
          "height": 1053
        },
        "outputId": "2e54581b-f0dd-492e-cd4c-f178d6193a1c"
      },
      "cell_type": "code",
      "source": [
        "pd.DataFrame(gridsearch.cv_results_).sort_values(by='rank_test_score')"
      ],
      "execution_count": 139,
      "outputs": [
        {
          "output_type": "execute_result",
          "data": {
            "text/html": [
              "<div>\n",
              "<style scoped>\n",
              "    .dataframe tbody tr th:only-of-type {\n",
              "        vertical-align: middle;\n",
              "    }\n",
              "\n",
              "    .dataframe tbody tr th {\n",
              "        vertical-align: top;\n",
              "    }\n",
              "\n",
              "    .dataframe thead th {\n",
              "        text-align: right;\n",
              "    }\n",
              "</style>\n",
              "<table border=\"1\" class=\"dataframe\">\n",
              "  <thead>\n",
              "    <tr style=\"text-align: right;\">\n",
              "      <th></th>\n",
              "      <th>mean_fit_time</th>\n",
              "      <th>mean_score_time</th>\n",
              "      <th>mean_test_score</th>\n",
              "      <th>mean_train_score</th>\n",
              "      <th>param_max_depth</th>\n",
              "      <th>param_n_estimators</th>\n",
              "      <th>params</th>\n",
              "      <th>rank_test_score</th>\n",
              "      <th>split0_test_score</th>\n",
              "      <th>split0_train_score</th>\n",
              "      <th>split1_test_score</th>\n",
              "      <th>split1_train_score</th>\n",
              "      <th>split2_test_score</th>\n",
              "      <th>split2_train_score</th>\n",
              "      <th>std_fit_time</th>\n",
              "      <th>std_score_time</th>\n",
              "      <th>std_test_score</th>\n",
              "      <th>std_train_score</th>\n",
              "    </tr>\n",
              "  </thead>\n",
              "  <tbody>\n",
              "    <tr>\n",
              "      <th>8</th>\n",
              "      <td>1.559696</td>\n",
              "      <td>0.118298</td>\n",
              "      <td>0.798990</td>\n",
              "      <td>0.949716</td>\n",
              "      <td>20</td>\n",
              "      <td>30</td>\n",
              "      <td>{'max_depth': 20, 'n_estimators': 30}</td>\n",
              "      <td>1</td>\n",
              "      <td>0.802146</td>\n",
              "      <td>0.949653</td>\n",
              "      <td>0.798359</td>\n",
              "      <td>0.948390</td>\n",
              "      <td>0.796465</td>\n",
              "      <td>0.951105</td>\n",
              "      <td>0.011578</td>\n",
              "      <td>0.000228</td>\n",
              "      <td>0.002362</td>\n",
              "      <td>0.001109</td>\n",
              "    </tr>\n",
              "    <tr>\n",
              "      <th>7</th>\n",
              "      <td>1.034794</td>\n",
              "      <td>0.118648</td>\n",
              "      <td>0.794844</td>\n",
              "      <td>0.947917</td>\n",
              "      <td>20</td>\n",
              "      <td>20</td>\n",
              "      <td>{'max_depth': 20, 'n_estimators': 20}</td>\n",
              "      <td>2</td>\n",
              "      <td>0.796402</td>\n",
              "      <td>0.946875</td>\n",
              "      <td>0.794003</td>\n",
              "      <td>0.944792</td>\n",
              "      <td>0.794129</td>\n",
              "      <td>0.952083</td>\n",
              "      <td>0.036792</td>\n",
              "      <td>0.000476</td>\n",
              "      <td>0.001102</td>\n",
              "      <td>0.003067</td>\n",
              "    </tr>\n",
              "    <tr>\n",
              "      <th>11</th>\n",
              "      <td>1.789384</td>\n",
              "      <td>0.153083</td>\n",
              "      <td>0.794045</td>\n",
              "      <td>0.994592</td>\n",
              "      <td>30</td>\n",
              "      <td>30</td>\n",
              "      <td>{'max_depth': 30, 'n_estimators': 30}</td>\n",
              "      <td>3</td>\n",
              "      <td>0.795518</td>\n",
              "      <td>0.994571</td>\n",
              "      <td>0.794444</td>\n",
              "      <td>0.994823</td>\n",
              "      <td>0.792172</td>\n",
              "      <td>0.994381</td>\n",
              "      <td>0.056964</td>\n",
              "      <td>0.047973</td>\n",
              "      <td>0.001395</td>\n",
              "      <td>0.000181</td>\n",
              "    </tr>\n",
              "    <tr>\n",
              "      <th>10</th>\n",
              "      <td>1.124861</td>\n",
              "      <td>0.118634</td>\n",
              "      <td>0.793918</td>\n",
              "      <td>0.991235</td>\n",
              "      <td>30</td>\n",
              "      <td>20</td>\n",
              "      <td>{'max_depth': 30, 'n_estimators': 20}</td>\n",
              "      <td>4</td>\n",
              "      <td>0.795896</td>\n",
              "      <td>0.991446</td>\n",
              "      <td>0.793119</td>\n",
              "      <td>0.991446</td>\n",
              "      <td>0.792740</td>\n",
              "      <td>0.990814</td>\n",
              "      <td>0.006700</td>\n",
              "      <td>0.000329</td>\n",
              "      <td>0.001407</td>\n",
              "      <td>0.000298</td>\n",
              "    </tr>\n",
              "    <tr>\n",
              "      <th>6</th>\n",
              "      <td>0.589411</td>\n",
              "      <td>0.118477</td>\n",
              "      <td>0.788742</td>\n",
              "      <td>0.939867</td>\n",
              "      <td>20</td>\n",
              "      <td>10</td>\n",
              "      <td>{'max_depth': 20, 'n_estimators': 10}</td>\n",
              "      <td>5</td>\n",
              "      <td>0.786932</td>\n",
              "      <td>0.942614</td>\n",
              "      <td>0.791919</td>\n",
              "      <td>0.939457</td>\n",
              "      <td>0.787374</td>\n",
              "      <td>0.937532</td>\n",
              "      <td>0.008141</td>\n",
              "      <td>0.000055</td>\n",
              "      <td>0.002254</td>\n",
              "      <td>0.002095</td>\n",
              "    </tr>\n",
              "    <tr>\n",
              "      <th>9</th>\n",
              "      <td>0.641235</td>\n",
              "      <td>0.119074</td>\n",
              "      <td>0.788258</td>\n",
              "      <td>0.980450</td>\n",
              "      <td>30</td>\n",
              "      <td>10</td>\n",
              "      <td>{'max_depth': 30, 'n_estimators': 10}</td>\n",
              "      <td>6</td>\n",
              "      <td>0.789331</td>\n",
              "      <td>0.980208</td>\n",
              "      <td>0.788321</td>\n",
              "      <td>0.980966</td>\n",
              "      <td>0.787121</td>\n",
              "      <td>0.980177</td>\n",
              "      <td>0.004660</td>\n",
              "      <td>0.000491</td>\n",
              "      <td>0.000903</td>\n",
              "      <td>0.000365</td>\n",
              "    </tr>\n",
              "    <tr>\n",
              "      <th>3</th>\n",
              "      <td>0.430171</td>\n",
              "      <td>0.118474</td>\n",
              "      <td>0.753325</td>\n",
              "      <td>0.771433</td>\n",
              "      <td>10</td>\n",
              "      <td>10</td>\n",
              "      <td>{'max_depth': 10, 'n_estimators': 10}</td>\n",
              "      <td>7</td>\n",
              "      <td>0.752273</td>\n",
              "      <td>0.771086</td>\n",
              "      <td>0.755871</td>\n",
              "      <td>0.771749</td>\n",
              "      <td>0.751831</td>\n",
              "      <td>0.771465</td>\n",
              "      <td>0.031549</td>\n",
              "      <td>0.000257</td>\n",
              "      <td>0.001810</td>\n",
              "      <td>0.000272</td>\n",
              "    </tr>\n",
              "    <tr>\n",
              "      <th>4</th>\n",
              "      <td>0.706189</td>\n",
              "      <td>0.118290</td>\n",
              "      <td>0.752715</td>\n",
              "      <td>0.770360</td>\n",
              "      <td>10</td>\n",
              "      <td>20</td>\n",
              "      <td>{'max_depth': 10, 'n_estimators': 20}</td>\n",
              "      <td>8</td>\n",
              "      <td>0.751452</td>\n",
              "      <td>0.771875</td>\n",
              "      <td>0.757702</td>\n",
              "      <td>0.771528</td>\n",
              "      <td>0.748990</td>\n",
              "      <td>0.767677</td>\n",
              "      <td>0.019487</td>\n",
              "      <td>0.000106</td>\n",
              "      <td>0.003667</td>\n",
              "      <td>0.001903</td>\n",
              "    </tr>\n",
              "    <tr>\n",
              "      <th>5</th>\n",
              "      <td>0.982046</td>\n",
              "      <td>0.118389</td>\n",
              "      <td>0.750947</td>\n",
              "      <td>0.767856</td>\n",
              "      <td>10</td>\n",
              "      <td>30</td>\n",
              "      <td>{'max_depth': 10, 'n_estimators': 30}</td>\n",
              "      <td>9</td>\n",
              "      <td>0.750694</td>\n",
              "      <td>0.770297</td>\n",
              "      <td>0.754356</td>\n",
              "      <td>0.767929</td>\n",
              "      <td>0.747790</td>\n",
              "      <td>0.765341</td>\n",
              "      <td>0.007823</td>\n",
              "      <td>0.000323</td>\n",
              "      <td>0.002686</td>\n",
              "      <td>0.002024</td>\n",
              "    </tr>\n",
              "    <tr>\n",
              "      <th>2</th>\n",
              "      <td>0.718732</td>\n",
              "      <td>0.118253</td>\n",
              "      <td>0.721843</td>\n",
              "      <td>0.723316</td>\n",
              "      <td>6</td>\n",
              "      <td>30</td>\n",
              "      <td>{'max_depth': 6, 'n_estimators': 30}</td>\n",
              "      <td>10</td>\n",
              "      <td>0.722664</td>\n",
              "      <td>0.724653</td>\n",
              "      <td>0.722980</td>\n",
              "      <td>0.722128</td>\n",
              "      <td>0.719886</td>\n",
              "      <td>0.723169</td>\n",
              "      <td>0.025092</td>\n",
              "      <td>0.000165</td>\n",
              "      <td>0.001390</td>\n",
              "      <td>0.001036</td>\n",
              "    </tr>\n",
              "    <tr>\n",
              "      <th>0</th>\n",
              "      <td>0.328183</td>\n",
              "      <td>0.119219</td>\n",
              "      <td>0.720118</td>\n",
              "      <td>0.721991</td>\n",
              "      <td>6</td>\n",
              "      <td>10</td>\n",
              "      <td>{'max_depth': 6, 'n_estimators': 10}</td>\n",
              "      <td>11</td>\n",
              "      <td>0.719508</td>\n",
              "      <td>0.720833</td>\n",
              "      <td>0.720770</td>\n",
              "      <td>0.720518</td>\n",
              "      <td>0.720076</td>\n",
              "      <td>0.724621</td>\n",
              "      <td>0.004704</td>\n",
              "      <td>0.001676</td>\n",
              "      <td>0.000516</td>\n",
              "      <td>0.001864</td>\n",
              "    </tr>\n",
              "    <tr>\n",
              "      <th>1</th>\n",
              "      <td>0.478055</td>\n",
              "      <td>0.118110</td>\n",
              "      <td>0.720076</td>\n",
              "      <td>0.722338</td>\n",
              "      <td>6</td>\n",
              "      <td>20</td>\n",
              "      <td>{'max_depth': 6, 'n_estimators': 20}</td>\n",
              "      <td>12</td>\n",
              "      <td>0.722033</td>\n",
              "      <td>0.723264</td>\n",
              "      <td>0.720076</td>\n",
              "      <td>0.720328</td>\n",
              "      <td>0.718119</td>\n",
              "      <td>0.723422</td>\n",
              "      <td>0.009109</td>\n",
              "      <td>0.000275</td>\n",
              "      <td>0.001598</td>\n",
              "      <td>0.001423</td>\n",
              "    </tr>\n",
              "  </tbody>\n",
              "</table>\n",
              "</div>"
            ],
            "text/plain": [
              "    mean_fit_time  mean_score_time  mean_test_score  mean_train_score  \\\n",
              "8        1.559696         0.118298         0.798990          0.949716   \n",
              "7        1.034794         0.118648         0.794844          0.947917   \n",
              "11       1.789384         0.153083         0.794045          0.994592   \n",
              "10       1.124861         0.118634         0.793918          0.991235   \n",
              "6        0.589411         0.118477         0.788742          0.939867   \n",
              "9        0.641235         0.119074         0.788258          0.980450   \n",
              "3        0.430171         0.118474         0.753325          0.771433   \n",
              "4        0.706189         0.118290         0.752715          0.770360   \n",
              "5        0.982046         0.118389         0.750947          0.767856   \n",
              "2        0.718732         0.118253         0.721843          0.723316   \n",
              "0        0.328183         0.119219         0.720118          0.721991   \n",
              "1        0.478055         0.118110         0.720076          0.722338   \n",
              "\n",
              "   param_max_depth param_n_estimators                                 params  \\\n",
              "8               20                 30  {'max_depth': 20, 'n_estimators': 30}   \n",
              "7               20                 20  {'max_depth': 20, 'n_estimators': 20}   \n",
              "11              30                 30  {'max_depth': 30, 'n_estimators': 30}   \n",
              "10              30                 20  {'max_depth': 30, 'n_estimators': 20}   \n",
              "6               20                 10  {'max_depth': 20, 'n_estimators': 10}   \n",
              "9               30                 10  {'max_depth': 30, 'n_estimators': 10}   \n",
              "3               10                 10  {'max_depth': 10, 'n_estimators': 10}   \n",
              "4               10                 20  {'max_depth': 10, 'n_estimators': 20}   \n",
              "5               10                 30  {'max_depth': 10, 'n_estimators': 30}   \n",
              "2                6                 30   {'max_depth': 6, 'n_estimators': 30}   \n",
              "0                6                 10   {'max_depth': 6, 'n_estimators': 10}   \n",
              "1                6                 20   {'max_depth': 6, 'n_estimators': 20}   \n",
              "\n",
              "    rank_test_score  split0_test_score  split0_train_score  split1_test_score  \\\n",
              "8                 1           0.802146            0.949653           0.798359   \n",
              "7                 2           0.796402            0.946875           0.794003   \n",
              "11                3           0.795518            0.994571           0.794444   \n",
              "10                4           0.795896            0.991446           0.793119   \n",
              "6                 5           0.786932            0.942614           0.791919   \n",
              "9                 6           0.789331            0.980208           0.788321   \n",
              "3                 7           0.752273            0.771086           0.755871   \n",
              "4                 8           0.751452            0.771875           0.757702   \n",
              "5                 9           0.750694            0.770297           0.754356   \n",
              "2                10           0.722664            0.724653           0.722980   \n",
              "0                11           0.719508            0.720833           0.720770   \n",
              "1                12           0.722033            0.723264           0.720076   \n",
              "\n",
              "    split1_train_score  split2_test_score  split2_train_score  std_fit_time  \\\n",
              "8             0.948390           0.796465            0.951105      0.011578   \n",
              "7             0.944792           0.794129            0.952083      0.036792   \n",
              "11            0.994823           0.792172            0.994381      0.056964   \n",
              "10            0.991446           0.792740            0.990814      0.006700   \n",
              "6             0.939457           0.787374            0.937532      0.008141   \n",
              "9             0.980966           0.787121            0.980177      0.004660   \n",
              "3             0.771749           0.751831            0.771465      0.031549   \n",
              "4             0.771528           0.748990            0.767677      0.019487   \n",
              "5             0.767929           0.747790            0.765341      0.007823   \n",
              "2             0.722128           0.719886            0.723169      0.025092   \n",
              "0             0.720518           0.720076            0.724621      0.004704   \n",
              "1             0.720328           0.718119            0.723422      0.009109   \n",
              "\n",
              "    std_score_time  std_test_score  std_train_score  \n",
              "8         0.000228        0.002362         0.001109  \n",
              "7         0.000476        0.001102         0.003067  \n",
              "11        0.047973        0.001395         0.000181  \n",
              "10        0.000329        0.001407         0.000298  \n",
              "6         0.000055        0.002254         0.002095  \n",
              "9         0.000491        0.000903         0.000365  \n",
              "3         0.000257        0.001810         0.000272  \n",
              "4         0.000106        0.003667         0.001903  \n",
              "5         0.000323        0.002686         0.002024  \n",
              "2         0.000165        0.001390         0.001036  \n",
              "0         0.001676        0.000516         0.001864  \n",
              "1         0.000275        0.001598         0.001423  "
            ]
          },
          "metadata": {
            "tags": []
          },
          "execution_count": 139
        }
      ]
    },
    {
      "metadata": {
        "id": "PO9gMlxQ8b63",
        "colab_type": "text"
      },
      "cell_type": "markdown",
      "source": [
        "### Looks like max_depth of 20 and n_estimators of 30 gives the best fit. So let's build a classifier with those parameters and verify that it works with X_train/y_train."
      ]
    },
    {
      "metadata": {
        "id": "ExvPGrDscRsZ",
        "colab_type": "code",
        "colab": {
          "base_uri": "https://localhost:8080/",
          "height": 88
        },
        "outputId": "d530848d-b4d8-426b-f82b-5a8e4e12dbd0"
      },
      "cell_type": "code",
      "source": [
        "clf = RandomForestClassifier(max_depth = 20, n_estimators = 30, n_jobs = -1)\n",
        "clf.fit(X_train, y_train)\n",
        "clf.score(X_test, y_test)"
      ],
      "execution_count": 140,
      "outputs": [
        {
          "output_type": "stream",
          "text": [
            "/usr/local/lib/python3.6/dist-packages/ipykernel_launcher.py:2: DataConversionWarning: A column-vector y was passed when a 1d array was expected. Please change the shape of y to (n_samples,), for example using ravel().\n",
            "  \n"
          ],
          "name": "stderr"
        },
        {
          "output_type": "execute_result",
          "data": {
            "text/plain": [
              "0.8104377104377104"
            ]
          },
          "metadata": {
            "tags": []
          },
          "execution_count": 140
        }
      ]
    },
    {
      "metadata": {
        "id": "W77aat7hcJpk",
        "colab_type": "text"
      },
      "cell_type": "markdown",
      "source": [
        "### Gives us a score of 0.81"
      ]
    },
    {
      "metadata": {
        "id": "eQIJaOU8AJXG",
        "colab_type": "text"
      },
      "cell_type": "markdown",
      "source": [
        "### Get the prediction y_pred and submit it"
      ]
    },
    {
      "metadata": {
        "id": "KJ4ZGrKbcRp5",
        "colab_type": "code",
        "colab": {
          "base_uri": "https://localhost:8080/",
          "height": 204
        },
        "outputId": "8f1fa1ec-61bc-412f-b9c9-f9443f1b0eb7"
      },
      "cell_type": "code",
      "source": [
        "y_pred = clf.predict(X_test_selected)\n",
        "y_pred = pd.DataFrame(data = y_pred, \n",
        "                      index = X_test_selected.index.values,\n",
        "                      columns = ['status_group'])\n",
        "y_pred.head()"
      ],
      "execution_count": 141,
      "outputs": [
        {
          "output_type": "execute_result",
          "data": {
            "text/html": [
              "<div>\n",
              "<style scoped>\n",
              "    .dataframe tbody tr th:only-of-type {\n",
              "        vertical-align: middle;\n",
              "    }\n",
              "\n",
              "    .dataframe tbody tr th {\n",
              "        vertical-align: top;\n",
              "    }\n",
              "\n",
              "    .dataframe thead th {\n",
              "        text-align: right;\n",
              "    }\n",
              "</style>\n",
              "<table border=\"1\" class=\"dataframe\">\n",
              "  <thead>\n",
              "    <tr style=\"text-align: right;\">\n",
              "      <th></th>\n",
              "      <th>status_group</th>\n",
              "    </tr>\n",
              "  </thead>\n",
              "  <tbody>\n",
              "    <tr>\n",
              "      <th>50785</th>\n",
              "      <td>functional</td>\n",
              "    </tr>\n",
              "    <tr>\n",
              "      <th>51630</th>\n",
              "      <td>functional</td>\n",
              "    </tr>\n",
              "    <tr>\n",
              "      <th>17168</th>\n",
              "      <td>functional</td>\n",
              "    </tr>\n",
              "    <tr>\n",
              "      <th>45559</th>\n",
              "      <td>non functional</td>\n",
              "    </tr>\n",
              "    <tr>\n",
              "      <th>49871</th>\n",
              "      <td>functional</td>\n",
              "    </tr>\n",
              "  </tbody>\n",
              "</table>\n",
              "</div>"
            ],
            "text/plain": [
              "         status_group\n",
              "50785      functional\n",
              "51630      functional\n",
              "17168      functional\n",
              "45559  non functional\n",
              "49871      functional"
            ]
          },
          "metadata": {
            "tags": []
          },
          "execution_count": 141
        }
      ]
    },
    {
      "metadata": {
        "id": "dDqUiii5cRnw",
        "colab_type": "code",
        "colab": {}
      },
      "cell_type": "code",
      "source": [
        "y_pred.to_csv('./random_forest_pred.csv', \n",
        "          header = ['status_group'],\n",
        "          index = True,\n",
        "             index_label = 'id')"
      ],
      "execution_count": 0,
      "outputs": []
    }
  ]
}